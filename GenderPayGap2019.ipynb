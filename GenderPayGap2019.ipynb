{
  "nbformat": 4,
  "nbformat_minor": 0,
  "metadata": {
    "colab": {
      "name": "GenderPayGap2019.ipynb",
      "provenance": []
    },
    "kernelspec": {
      "name": "python3",
      "display_name": "Python 3"
    },
    "language_info": {
      "name": "python"
    }
  },
  "cells": [
    {
      "cell_type": "markdown",
      "source": [
        "# **2019 Gender Pay Gap**\n",
        "\n",
        "The gender pay gap is currently a well known phenomenon with research indicating men receive higher pay on average compared to women.  I will explore this concept further by running statistical tests on this [Kaggle dataset](https://www.kaggle.com/datasets/nilimajauhari/glassdoor-analyze-gender-pay-gap) that scraped 2019 salary information from Glassdoor. This dataset contains 1,000 records, collecting data on job title, gender, age, performance evaluation, education, department, seniority, base pay, and bonuses.\n",
        "\n",
        "In addition to performing statistical tests observing if there is a significant difference in average pay between men and women, I will also look at the additional variable of age to understand if there is also a statistically significant difference in mean pay between men and women within different age groups as well.\n",
        "\n",
        "The following hypotheses are tested in this Notebook:\n",
        "\n",
        "**Hypothesis Test #1**\n",
        "\n",
        "*   **Null:**  There will not be a significant difference in average pay between men and women.\n",
        "*   **Alternate:**  There will be a significant difference in average pay between men and women.\n",
        "\n",
        "**Hypothesis Test #2a**\n",
        "\n",
        "*   **Null:**  There will not be a significant difference in average pay between men and women between the ages of 18-41.\n",
        "*   **Alternate:**  There will be a significant difference in average pay between men and women between the ages of 18-41.\n",
        "\n",
        "**Hypothesis Test #2b**\n",
        "\n",
        "*   **Null:**  There will not be a significant difference in average pay between men and women between the ages of 42-65.\n",
        "*   **Alternate:**  There will be a significant difference in average pay between men and women between the ages of 42-65.\n",
        "\n",
        "Following my analysis of the statistical tests on these hypotheses, I will address the limitations of the study (including its restricted definition of gender), and the next steps important to consider in future research.\n"
      ],
      "metadata": {
        "id": "FfvSSFDGHmq9"
      }
    },
    {
      "cell_type": "markdown",
      "source": [
        "# **Table of Contents**\n",
        "\n",
        ">[Pre-Hypothesis Testing](#scrollTo=XVOdb7fKtrtb)\n",
        "\n",
        ">[Hypothesis Test #1](#scrollTo=UQPZEuG1KoHI)\n",
        "\n",
        ">[Findings for Hypothesis Test #1](#scrollTo=os9eVAL6NVWc)\n",
        "\n",
        ">[Hypothesis Test #2a](#scrollTo=bPglpAFogYpS)\n",
        "\n",
        ">[Findings for Hypothesis Test #2a](#scrollTo=8sff9QfN_I0T)\n",
        "\n",
        ">[Hypothesis Test #2b](#scrollTo=Qj_DidW6_SWM)\n",
        "\n",
        ">[Findings for Hypothesis Test #2b](#scrollTo=UySlanFKGRYF)\n",
        "\n",
        ">[Conclusion](#scrollTo=Dv5LVI-21hwg)\n",
        "\n"
      ],
      "metadata": {
        "colab_type": "toc",
        "id": "l_DWGIj7kAjV"
      }
    },
    {
      "cell_type": "code",
      "execution_count": 44,
      "metadata": {
        "colab": {
          "base_uri": "https://localhost:8080/"
        },
        "id": "vneRJoieOCwi",
        "outputId": "d7b5a0e1-7f99-4df2-bc4f-34d82d25348c"
      },
      "outputs": [
        {
          "output_type": "stream",
          "name": "stdout",
          "text": [
            "Drive already mounted at /content/gdrive; to attempt to forcibly remount, call drive.mount(\"/content/gdrive\", force_remount=True).\n"
          ]
        }
      ],
      "source": [
        "from google.colab import drive\n",
        "drive.mount('/content/gdrive')"
      ]
    },
    {
      "cell_type": "code",
      "source": [
        "# Import libraries and read in the GDrive-mounted CSV\n",
        "\n",
        "import pandas as pd\n",
        "from scipy import stats\n",
        "import math\n",
        "import matplotlib.pyplot as plt\n",
        "import seaborn as sns \n",
        "sns.set()\n",
        "\n",
        "df = pd.read_csv('/content/gdrive/My Drive/Datasets/GenderPayGap.csv')\n",
        "df.head()"
      ],
      "metadata": {
        "id": "yoTD_X08OFYK",
        "colab": {
          "base_uri": "https://localhost:8080/",
          "height": 204
        },
        "outputId": "7242e669-b295-49fb-f328-1bb4384ac97f"
      },
      "execution_count": 45,
      "outputs": [
        {
          "output_type": "execute_result",
          "data": {
            "text/plain": [
              "              JobTitle  Gender  Age  PerfEval Education            Dept  \\\n",
              "0     Graphic Designer  Female   18         5   College      Operations   \n",
              "1    Software Engineer    Male   21         5   College      Management   \n",
              "2  Warehouse Associate  Female   19         4       PhD  Administration   \n",
              "3    Software Engineer    Male   20         5   Masters           Sales   \n",
              "4     Graphic Designer    Male   26         5   Masters     Engineering   \n",
              "\n",
              "   Seniority  BasePay  Bonus  \n",
              "0          2    42363   9938  \n",
              "1          5   108476  11128  \n",
              "2          5    90208   9268  \n",
              "3          4   108080  10154  \n",
              "4          5    99464   9319  "
            ],
            "text/html": [
              "\n",
              "  <div id=\"df-d901bbb7-716b-49ea-b22a-ebbfe3086b8d\">\n",
              "    <div class=\"colab-df-container\">\n",
              "      <div>\n",
              "<style scoped>\n",
              "    .dataframe tbody tr th:only-of-type {\n",
              "        vertical-align: middle;\n",
              "    }\n",
              "\n",
              "    .dataframe tbody tr th {\n",
              "        vertical-align: top;\n",
              "    }\n",
              "\n",
              "    .dataframe thead th {\n",
              "        text-align: right;\n",
              "    }\n",
              "</style>\n",
              "<table border=\"1\" class=\"dataframe\">\n",
              "  <thead>\n",
              "    <tr style=\"text-align: right;\">\n",
              "      <th></th>\n",
              "      <th>JobTitle</th>\n",
              "      <th>Gender</th>\n",
              "      <th>Age</th>\n",
              "      <th>PerfEval</th>\n",
              "      <th>Education</th>\n",
              "      <th>Dept</th>\n",
              "      <th>Seniority</th>\n",
              "      <th>BasePay</th>\n",
              "      <th>Bonus</th>\n",
              "    </tr>\n",
              "  </thead>\n",
              "  <tbody>\n",
              "    <tr>\n",
              "      <th>0</th>\n",
              "      <td>Graphic Designer</td>\n",
              "      <td>Female</td>\n",
              "      <td>18</td>\n",
              "      <td>5</td>\n",
              "      <td>College</td>\n",
              "      <td>Operations</td>\n",
              "      <td>2</td>\n",
              "      <td>42363</td>\n",
              "      <td>9938</td>\n",
              "    </tr>\n",
              "    <tr>\n",
              "      <th>1</th>\n",
              "      <td>Software Engineer</td>\n",
              "      <td>Male</td>\n",
              "      <td>21</td>\n",
              "      <td>5</td>\n",
              "      <td>College</td>\n",
              "      <td>Management</td>\n",
              "      <td>5</td>\n",
              "      <td>108476</td>\n",
              "      <td>11128</td>\n",
              "    </tr>\n",
              "    <tr>\n",
              "      <th>2</th>\n",
              "      <td>Warehouse Associate</td>\n",
              "      <td>Female</td>\n",
              "      <td>19</td>\n",
              "      <td>4</td>\n",
              "      <td>PhD</td>\n",
              "      <td>Administration</td>\n",
              "      <td>5</td>\n",
              "      <td>90208</td>\n",
              "      <td>9268</td>\n",
              "    </tr>\n",
              "    <tr>\n",
              "      <th>3</th>\n",
              "      <td>Software Engineer</td>\n",
              "      <td>Male</td>\n",
              "      <td>20</td>\n",
              "      <td>5</td>\n",
              "      <td>Masters</td>\n",
              "      <td>Sales</td>\n",
              "      <td>4</td>\n",
              "      <td>108080</td>\n",
              "      <td>10154</td>\n",
              "    </tr>\n",
              "    <tr>\n",
              "      <th>4</th>\n",
              "      <td>Graphic Designer</td>\n",
              "      <td>Male</td>\n",
              "      <td>26</td>\n",
              "      <td>5</td>\n",
              "      <td>Masters</td>\n",
              "      <td>Engineering</td>\n",
              "      <td>5</td>\n",
              "      <td>99464</td>\n",
              "      <td>9319</td>\n",
              "    </tr>\n",
              "  </tbody>\n",
              "</table>\n",
              "</div>\n",
              "      <button class=\"colab-df-convert\" onclick=\"convertToInteractive('df-d901bbb7-716b-49ea-b22a-ebbfe3086b8d')\"\n",
              "              title=\"Convert this dataframe to an interactive table.\"\n",
              "              style=\"display:none;\">\n",
              "        \n",
              "  <svg xmlns=\"http://www.w3.org/2000/svg\" height=\"24px\"viewBox=\"0 0 24 24\"\n",
              "       width=\"24px\">\n",
              "    <path d=\"M0 0h24v24H0V0z\" fill=\"none\"/>\n",
              "    <path d=\"M18.56 5.44l.94 2.06.94-2.06 2.06-.94-2.06-.94-.94-2.06-.94 2.06-2.06.94zm-11 1L8.5 8.5l.94-2.06 2.06-.94-2.06-.94L8.5 2.5l-.94 2.06-2.06.94zm10 10l.94 2.06.94-2.06 2.06-.94-2.06-.94-.94-2.06-.94 2.06-2.06.94z\"/><path d=\"M17.41 7.96l-1.37-1.37c-.4-.4-.92-.59-1.43-.59-.52 0-1.04.2-1.43.59L10.3 9.45l-7.72 7.72c-.78.78-.78 2.05 0 2.83L4 21.41c.39.39.9.59 1.41.59.51 0 1.02-.2 1.41-.59l7.78-7.78 2.81-2.81c.8-.78.8-2.07 0-2.86zM5.41 20L4 18.59l7.72-7.72 1.47 1.35L5.41 20z\"/>\n",
              "  </svg>\n",
              "      </button>\n",
              "      \n",
              "  <style>\n",
              "    .colab-df-container {\n",
              "      display:flex;\n",
              "      flex-wrap:wrap;\n",
              "      gap: 12px;\n",
              "    }\n",
              "\n",
              "    .colab-df-convert {\n",
              "      background-color: #E8F0FE;\n",
              "      border: none;\n",
              "      border-radius: 50%;\n",
              "      cursor: pointer;\n",
              "      display: none;\n",
              "      fill: #1967D2;\n",
              "      height: 32px;\n",
              "      padding: 0 0 0 0;\n",
              "      width: 32px;\n",
              "    }\n",
              "\n",
              "    .colab-df-convert:hover {\n",
              "      background-color: #E2EBFA;\n",
              "      box-shadow: 0px 1px 2px rgba(60, 64, 67, 0.3), 0px 1px 3px 1px rgba(60, 64, 67, 0.15);\n",
              "      fill: #174EA6;\n",
              "    }\n",
              "\n",
              "    [theme=dark] .colab-df-convert {\n",
              "      background-color: #3B4455;\n",
              "      fill: #D2E3FC;\n",
              "    }\n",
              "\n",
              "    [theme=dark] .colab-df-convert:hover {\n",
              "      background-color: #434B5C;\n",
              "      box-shadow: 0px 1px 3px 1px rgba(0, 0, 0, 0.15);\n",
              "      filter: drop-shadow(0px 1px 2px rgba(0, 0, 0, 0.3));\n",
              "      fill: #FFFFFF;\n",
              "    }\n",
              "  </style>\n",
              "\n",
              "      <script>\n",
              "        const buttonEl =\n",
              "          document.querySelector('#df-d901bbb7-716b-49ea-b22a-ebbfe3086b8d button.colab-df-convert');\n",
              "        buttonEl.style.display =\n",
              "          google.colab.kernel.accessAllowed ? 'block' : 'none';\n",
              "\n",
              "        async function convertToInteractive(key) {\n",
              "          const element = document.querySelector('#df-d901bbb7-716b-49ea-b22a-ebbfe3086b8d');\n",
              "          const dataTable =\n",
              "            await google.colab.kernel.invokeFunction('convertToInteractive',\n",
              "                                                     [key], {});\n",
              "          if (!dataTable) return;\n",
              "\n",
              "          const docLinkHtml = 'Like what you see? Visit the ' +\n",
              "            '<a target=\"_blank\" href=https://colab.research.google.com/notebooks/data_table.ipynb>data table notebook</a>'\n",
              "            + ' to learn more about interactive tables.';\n",
              "          element.innerHTML = '';\n",
              "          dataTable['output_type'] = 'display_data';\n",
              "          await google.colab.output.renderOutput(dataTable, element);\n",
              "          const docLink = document.createElement('div');\n",
              "          docLink.innerHTML = docLinkHtml;\n",
              "          element.appendChild(docLink);\n",
              "        }\n",
              "      </script>\n",
              "    </div>\n",
              "  </div>\n",
              "  "
            ]
          },
          "metadata": {},
          "execution_count": 45
        }
      ]
    },
    {
      "cell_type": "code",
      "source": [
        "# Find the row count to know what our population for this dataset is\n",
        "\n",
        "df.shape"
      ],
      "metadata": {
        "colab": {
          "base_uri": "https://localhost:8080/"
        },
        "id": "DzBKc5VtO-cC",
        "outputId": "9fab7dba-5b46-44e3-9875-3f2c9f043061"
      },
      "execution_count": 46,
      "outputs": [
        {
          "output_type": "execute_result",
          "data": {
            "text/plain": [
              "(1000, 9)"
            ]
          },
          "metadata": {},
          "execution_count": 46
        }
      ]
    },
    {
      "cell_type": "code",
      "source": [
        "# Explore the nine columns and their datatypes\n",
        "\n",
        "df.info()"
      ],
      "metadata": {
        "colab": {
          "base_uri": "https://localhost:8080/"
        },
        "id": "G9t7F2w6QN_U",
        "outputId": "f213a626-4ac0-4c76-bfdc-019d66186bbb"
      },
      "execution_count": 47,
      "outputs": [
        {
          "output_type": "stream",
          "name": "stdout",
          "text": [
            "<class 'pandas.core.frame.DataFrame'>\n",
            "RangeIndex: 1000 entries, 0 to 999\n",
            "Data columns (total 9 columns):\n",
            " #   Column     Non-Null Count  Dtype \n",
            "---  ------     --------------  ----- \n",
            " 0   JobTitle   1000 non-null   object\n",
            " 1   Gender     1000 non-null   object\n",
            " 2   Age        1000 non-null   int64 \n",
            " 3   PerfEval   1000 non-null   int64 \n",
            " 4   Education  1000 non-null   object\n",
            " 5   Dept       1000 non-null   object\n",
            " 6   Seniority  1000 non-null   int64 \n",
            " 7   BasePay    1000 non-null   int64 \n",
            " 8   Bonus      1000 non-null   int64 \n",
            "dtypes: int64(5), object(4)\n",
            "memory usage: 70.4+ KB\n"
          ]
        }
      ]
    },
    {
      "cell_type": "code",
      "source": [
        "# We have 1000 rows with 0 reported null values\n",
        "# Check to see if any rows have text representing missing values, and that the data in each row is logical for the column/datatype \n",
        "  # (Select interactive table for a complete look at the dataframe)\n",
        "\n",
        "df"
      ],
      "metadata": {
        "colab": {
          "base_uri": "https://localhost:8080/",
          "height": 419
        },
        "id": "b7uDu6hhQ2lg",
        "outputId": "607c41a5-a435-44ac-d528-5e2f29e79f58"
      },
      "execution_count": 48,
      "outputs": [
        {
          "output_type": "execute_result",
          "data": {
            "text/plain": [
              "                JobTitle  Gender  Age  PerfEval    Education            Dept  \\\n",
              "0       Graphic Designer  Female   18         5      College      Operations   \n",
              "1      Software Engineer    Male   21         5      College      Management   \n",
              "2    Warehouse Associate  Female   19         4          PhD  Administration   \n",
              "3      Software Engineer    Male   20         5      Masters           Sales   \n",
              "4       Graphic Designer    Male   26         5      Masters     Engineering   \n",
              "..                   ...     ...  ...       ...          ...             ...   \n",
              "995  Marketing Associate  Female   61         1  High School  Administration   \n",
              "996       Data Scientist    Male   57         1      Masters           Sales   \n",
              "997    Financial Analyst    Male   48         1  High School      Operations   \n",
              "998    Financial Analyst    Male   65         2  High School  Administration   \n",
              "999    Financial Analyst    Male   60         1          PhD           Sales   \n",
              "\n",
              "     Seniority  BasePay  Bonus  \n",
              "0            2    42363   9938  \n",
              "1            5   108476  11128  \n",
              "2            5    90208   9268  \n",
              "3            4   108080  10154  \n",
              "4            5    99464   9319  \n",
              "..         ...      ...    ...  \n",
              "995          1    62644   3270  \n",
              "996          2   108977   3567  \n",
              "997          1    92347   2724  \n",
              "998          1    97376   2225  \n",
              "999          2   123108   2244  \n",
              "\n",
              "[1000 rows x 9 columns]"
            ],
            "text/html": [
              "\n",
              "  <div id=\"df-a8ea3e9a-8ce7-4436-926a-55c5db7bd8a4\">\n",
              "    <div class=\"colab-df-container\">\n",
              "      <div>\n",
              "<style scoped>\n",
              "    .dataframe tbody tr th:only-of-type {\n",
              "        vertical-align: middle;\n",
              "    }\n",
              "\n",
              "    .dataframe tbody tr th {\n",
              "        vertical-align: top;\n",
              "    }\n",
              "\n",
              "    .dataframe thead th {\n",
              "        text-align: right;\n",
              "    }\n",
              "</style>\n",
              "<table border=\"1\" class=\"dataframe\">\n",
              "  <thead>\n",
              "    <tr style=\"text-align: right;\">\n",
              "      <th></th>\n",
              "      <th>JobTitle</th>\n",
              "      <th>Gender</th>\n",
              "      <th>Age</th>\n",
              "      <th>PerfEval</th>\n",
              "      <th>Education</th>\n",
              "      <th>Dept</th>\n",
              "      <th>Seniority</th>\n",
              "      <th>BasePay</th>\n",
              "      <th>Bonus</th>\n",
              "    </tr>\n",
              "  </thead>\n",
              "  <tbody>\n",
              "    <tr>\n",
              "      <th>0</th>\n",
              "      <td>Graphic Designer</td>\n",
              "      <td>Female</td>\n",
              "      <td>18</td>\n",
              "      <td>5</td>\n",
              "      <td>College</td>\n",
              "      <td>Operations</td>\n",
              "      <td>2</td>\n",
              "      <td>42363</td>\n",
              "      <td>9938</td>\n",
              "    </tr>\n",
              "    <tr>\n",
              "      <th>1</th>\n",
              "      <td>Software Engineer</td>\n",
              "      <td>Male</td>\n",
              "      <td>21</td>\n",
              "      <td>5</td>\n",
              "      <td>College</td>\n",
              "      <td>Management</td>\n",
              "      <td>5</td>\n",
              "      <td>108476</td>\n",
              "      <td>11128</td>\n",
              "    </tr>\n",
              "    <tr>\n",
              "      <th>2</th>\n",
              "      <td>Warehouse Associate</td>\n",
              "      <td>Female</td>\n",
              "      <td>19</td>\n",
              "      <td>4</td>\n",
              "      <td>PhD</td>\n",
              "      <td>Administration</td>\n",
              "      <td>5</td>\n",
              "      <td>90208</td>\n",
              "      <td>9268</td>\n",
              "    </tr>\n",
              "    <tr>\n",
              "      <th>3</th>\n",
              "      <td>Software Engineer</td>\n",
              "      <td>Male</td>\n",
              "      <td>20</td>\n",
              "      <td>5</td>\n",
              "      <td>Masters</td>\n",
              "      <td>Sales</td>\n",
              "      <td>4</td>\n",
              "      <td>108080</td>\n",
              "      <td>10154</td>\n",
              "    </tr>\n",
              "    <tr>\n",
              "      <th>4</th>\n",
              "      <td>Graphic Designer</td>\n",
              "      <td>Male</td>\n",
              "      <td>26</td>\n",
              "      <td>5</td>\n",
              "      <td>Masters</td>\n",
              "      <td>Engineering</td>\n",
              "      <td>5</td>\n",
              "      <td>99464</td>\n",
              "      <td>9319</td>\n",
              "    </tr>\n",
              "    <tr>\n",
              "      <th>...</th>\n",
              "      <td>...</td>\n",
              "      <td>...</td>\n",
              "      <td>...</td>\n",
              "      <td>...</td>\n",
              "      <td>...</td>\n",
              "      <td>...</td>\n",
              "      <td>...</td>\n",
              "      <td>...</td>\n",
              "      <td>...</td>\n",
              "    </tr>\n",
              "    <tr>\n",
              "      <th>995</th>\n",
              "      <td>Marketing Associate</td>\n",
              "      <td>Female</td>\n",
              "      <td>61</td>\n",
              "      <td>1</td>\n",
              "      <td>High School</td>\n",
              "      <td>Administration</td>\n",
              "      <td>1</td>\n",
              "      <td>62644</td>\n",
              "      <td>3270</td>\n",
              "    </tr>\n",
              "    <tr>\n",
              "      <th>996</th>\n",
              "      <td>Data Scientist</td>\n",
              "      <td>Male</td>\n",
              "      <td>57</td>\n",
              "      <td>1</td>\n",
              "      <td>Masters</td>\n",
              "      <td>Sales</td>\n",
              "      <td>2</td>\n",
              "      <td>108977</td>\n",
              "      <td>3567</td>\n",
              "    </tr>\n",
              "    <tr>\n",
              "      <th>997</th>\n",
              "      <td>Financial Analyst</td>\n",
              "      <td>Male</td>\n",
              "      <td>48</td>\n",
              "      <td>1</td>\n",
              "      <td>High School</td>\n",
              "      <td>Operations</td>\n",
              "      <td>1</td>\n",
              "      <td>92347</td>\n",
              "      <td>2724</td>\n",
              "    </tr>\n",
              "    <tr>\n",
              "      <th>998</th>\n",
              "      <td>Financial Analyst</td>\n",
              "      <td>Male</td>\n",
              "      <td>65</td>\n",
              "      <td>2</td>\n",
              "      <td>High School</td>\n",
              "      <td>Administration</td>\n",
              "      <td>1</td>\n",
              "      <td>97376</td>\n",
              "      <td>2225</td>\n",
              "    </tr>\n",
              "    <tr>\n",
              "      <th>999</th>\n",
              "      <td>Financial Analyst</td>\n",
              "      <td>Male</td>\n",
              "      <td>60</td>\n",
              "      <td>1</td>\n",
              "      <td>PhD</td>\n",
              "      <td>Sales</td>\n",
              "      <td>2</td>\n",
              "      <td>123108</td>\n",
              "      <td>2244</td>\n",
              "    </tr>\n",
              "  </tbody>\n",
              "</table>\n",
              "<p>1000 rows × 9 columns</p>\n",
              "</div>\n",
              "      <button class=\"colab-df-convert\" onclick=\"convertToInteractive('df-a8ea3e9a-8ce7-4436-926a-55c5db7bd8a4')\"\n",
              "              title=\"Convert this dataframe to an interactive table.\"\n",
              "              style=\"display:none;\">\n",
              "        \n",
              "  <svg xmlns=\"http://www.w3.org/2000/svg\" height=\"24px\"viewBox=\"0 0 24 24\"\n",
              "       width=\"24px\">\n",
              "    <path d=\"M0 0h24v24H0V0z\" fill=\"none\"/>\n",
              "    <path d=\"M18.56 5.44l.94 2.06.94-2.06 2.06-.94-2.06-.94-.94-2.06-.94 2.06-2.06.94zm-11 1L8.5 8.5l.94-2.06 2.06-.94-2.06-.94L8.5 2.5l-.94 2.06-2.06.94zm10 10l.94 2.06.94-2.06 2.06-.94-2.06-.94-.94-2.06-.94 2.06-2.06.94z\"/><path d=\"M17.41 7.96l-1.37-1.37c-.4-.4-.92-.59-1.43-.59-.52 0-1.04.2-1.43.59L10.3 9.45l-7.72 7.72c-.78.78-.78 2.05 0 2.83L4 21.41c.39.39.9.59 1.41.59.51 0 1.02-.2 1.41-.59l7.78-7.78 2.81-2.81c.8-.78.8-2.07 0-2.86zM5.41 20L4 18.59l7.72-7.72 1.47 1.35L5.41 20z\"/>\n",
              "  </svg>\n",
              "      </button>\n",
              "      \n",
              "  <style>\n",
              "    .colab-df-container {\n",
              "      display:flex;\n",
              "      flex-wrap:wrap;\n",
              "      gap: 12px;\n",
              "    }\n",
              "\n",
              "    .colab-df-convert {\n",
              "      background-color: #E8F0FE;\n",
              "      border: none;\n",
              "      border-radius: 50%;\n",
              "      cursor: pointer;\n",
              "      display: none;\n",
              "      fill: #1967D2;\n",
              "      height: 32px;\n",
              "      padding: 0 0 0 0;\n",
              "      width: 32px;\n",
              "    }\n",
              "\n",
              "    .colab-df-convert:hover {\n",
              "      background-color: #E2EBFA;\n",
              "      box-shadow: 0px 1px 2px rgba(60, 64, 67, 0.3), 0px 1px 3px 1px rgba(60, 64, 67, 0.15);\n",
              "      fill: #174EA6;\n",
              "    }\n",
              "\n",
              "    [theme=dark] .colab-df-convert {\n",
              "      background-color: #3B4455;\n",
              "      fill: #D2E3FC;\n",
              "    }\n",
              "\n",
              "    [theme=dark] .colab-df-convert:hover {\n",
              "      background-color: #434B5C;\n",
              "      box-shadow: 0px 1px 3px 1px rgba(0, 0, 0, 0.15);\n",
              "      filter: drop-shadow(0px 1px 2px rgba(0, 0, 0, 0.3));\n",
              "      fill: #FFFFFF;\n",
              "    }\n",
              "  </style>\n",
              "\n",
              "      <script>\n",
              "        const buttonEl =\n",
              "          document.querySelector('#df-a8ea3e9a-8ce7-4436-926a-55c5db7bd8a4 button.colab-df-convert');\n",
              "        buttonEl.style.display =\n",
              "          google.colab.kernel.accessAllowed ? 'block' : 'none';\n",
              "\n",
              "        async function convertToInteractive(key) {\n",
              "          const element = document.querySelector('#df-a8ea3e9a-8ce7-4436-926a-55c5db7bd8a4');\n",
              "          const dataTable =\n",
              "            await google.colab.kernel.invokeFunction('convertToInteractive',\n",
              "                                                     [key], {});\n",
              "          if (!dataTable) return;\n",
              "\n",
              "          const docLinkHtml = 'Like what you see? Visit the ' +\n",
              "            '<a target=\"_blank\" href=https://colab.research.google.com/notebooks/data_table.ipynb>data table notebook</a>'\n",
              "            + ' to learn more about interactive tables.';\n",
              "          element.innerHTML = '';\n",
              "          dataTable['output_type'] = 'display_data';\n",
              "          await google.colab.output.renderOutput(dataTable, element);\n",
              "          const docLink = document.createElement('div');\n",
              "          docLink.innerHTML = docLinkHtml;\n",
              "          element.appendChild(docLink);\n",
              "        }\n",
              "      </script>\n",
              "    </div>\n",
              "  </div>\n",
              "  "
            ]
          },
          "metadata": {},
          "execution_count": 48
        }
      ]
    },
    {
      "cell_type": "markdown",
      "source": [
        "# **Pre-Hypothesis Testing**\n",
        "\n",
        "Before running statistical tests on my hypotheses, I will look for a normal distribution of the data. This initial testing will help  ensure the financial data was collected randomly and without bias, and will also confirm an even spread of gender and age data to eliminate the possibility of skewed results."
      ],
      "metadata": {
        "id": "XVOdb7fKtrtb"
      }
    },
    {
      "cell_type": "code",
      "source": [
        "# First, because I am utilizing both BasePay and Bonus data for my statistical testing, I need to find a normal distribution \n",
        "# of each variable to confirm random selection and a lack of bias in the data.\n",
        "\n",
        "# BasePay\n",
        "sns.histplot(x='BasePay', data=df, kde=True)"
      ],
      "metadata": {
        "colab": {
          "base_uri": "https://localhost:8080/",
          "height": 302
        },
        "id": "LK0m9Xijv0MI",
        "outputId": "52316c12-a4c6-4490-b44f-578eec4c05f1"
      },
      "execution_count": 49,
      "outputs": [
        {
          "output_type": "execute_result",
          "data": {
            "text/plain": [
              "<matplotlib.axes._subplots.AxesSubplot at 0x7fbdef5d6c90>"
            ]
          },
          "metadata": {},
          "execution_count": 49
        },
        {
          "output_type": "display_data",
          "data": {
            "text/plain": [
              "<Figure size 432x288 with 1 Axes>"
            ],
            "image/png": "[encoded data removed]"
          },
          "metadata": {}
        }
      ]
    },
    {
      "cell_type": "code",
      "source": [
        "# Bonus\n",
        "\n",
        "sns.histplot(x='Bonus', data=df, kde=True)"
      ],
      "metadata": {
        "colab": {
          "base_uri": "https://localhost:8080/",
          "height": 302
        },
        "id": "pK4mSUzbwq4I",
        "outputId": "bc7a1a33-012b-4920-fb1c-3d90e29b6daa"
      },
      "execution_count": 50,
      "outputs": [
        {
          "output_type": "execute_result",
          "data": {
            "text/plain": [
              "<matplotlib.axes._subplots.AxesSubplot at 0x7fbdef5d68d0>"
            ]
          },
          "metadata": {},
          "execution_count": 50
        },
        {
          "output_type": "display_data",
          "data": {
            "text/plain": [
              "<Figure size 432x288 with 1 Axes>"
            ],
            "image/png": "[encoded data removed]"
          },
          "metadata": {}
        }
      ]
    },
    {
      "cell_type": "code",
      "source": [
        "# Second, I need visualize the population of men and women.  An even split in the population between the two indicates randomly \n",
        "# collected data, and helps prevent a skew in the results towards one gender.\n",
        "\n",
        "sns.histplot(x='Gender', data=df)"
      ],
      "metadata": {
        "colab": {
          "base_uri": "https://localhost:8080/",
          "height": 302
        },
        "id": "7_suTPr1vZou",
        "outputId": "1337b3b4-7391-402c-9906-fd24dc61d00e"
      },
      "execution_count": 51,
      "outputs": [
        {
          "output_type": "execute_result",
          "data": {
            "text/plain": [
              "<matplotlib.axes._subplots.AxesSubplot at 0x7fbdef593b90>"
            ]
          },
          "metadata": {},
          "execution_count": 51
        },
        {
          "output_type": "display_data",
          "data": {
            "text/plain": [
              "<Figure size 432x288 with 1 Axes>"
            ],
            "image/png": "[encoded data removed]"
          },
          "metadata": {}
        }
      ]
    },
    {
      "cell_type": "code",
      "source": [
        "# Third, I am also looking for an even population spread across all ages.\n",
        "\n",
        "sns.histplot(x='Age', data=df)"
      ],
      "metadata": {
        "colab": {
          "base_uri": "https://localhost:8080/",
          "height": 302
        },
        "id": "rlnz0TnSxJKC",
        "outputId": "d680125f-266b-4b6f-a1f0-952db7bbfb5b"
      },
      "execution_count": 52,
      "outputs": [
        {
          "output_type": "execute_result",
          "data": {
            "text/plain": [
              "<matplotlib.axes._subplots.AxesSubplot at 0x7fbdf16e9dd0>"
            ]
          },
          "metadata": {},
          "execution_count": 52
        },
        {
          "output_type": "display_data",
          "data": {
            "text/plain": [
              "<Figure size 432x288 with 1 Axes>"
            ],
            "image/png": "[encoded data removed]"
          },
          "metadata": {}
        }
      ]
    },
    {
      "cell_type": "markdown",
      "source": [
        "**Pre-Hypothesis Results**\n",
        "\n",
        "*   The BasePay variable shows a strong normal distribution.\n",
        "*   Bonus shows a normal distribution, though not as shaped as BasePay.\n",
        "*   Gender shows an almost even split between men and women.  \n",
        "*   For age, a small spike occurs in the two extremes of the age range, but generally indicates an even spread."
      ],
      "metadata": {
        "id": "385oTr60yHUO"
      }
    },
    {
      "cell_type": "markdown",
      "source": [
        "# **Hypothesis Test #1**\n",
        "\n",
        "*   **Null:**  There will not be a significant difference in average pay between men and women.\n",
        "*   **Alternate:**  There will be a significant difference in average pay between men and women.\n",
        "\n",
        "Before we can compare the pay between men and women for the first hypothesis, we need to define what \"pay\" is referring to.  For this research, I am combining both base pay and bonuses to look at the total pay an individual receives.  This will be the pay figure I use to test in all of my hypotheses."
      ],
      "metadata": {
        "id": "UQPZEuG1KoHI"
      }
    },
    {
      "cell_type": "code",
      "source": [
        "# Create a new column \"TotalPay\" that combines BasePay and Bonus\n",
        "\n",
        "df = df.assign(TotalPay = df.BasePay + df.Bonus)\n",
        "df.head()"
      ],
      "metadata": {
        "colab": {
          "base_uri": "https://localhost:8080/",
          "height": 204
        },
        "id": "zFeXSNPRSaOM",
        "outputId": "ceb1d84f-49c2-4b7c-b5ea-0661e0a001d9"
      },
      "execution_count": 53,
      "outputs": [
        {
          "output_type": "execute_result",
          "data": {
            "text/plain": [
              "              JobTitle  Gender  Age  PerfEval Education            Dept  \\\n",
              "0     Graphic Designer  Female   18         5   College      Operations   \n",
              "1    Software Engineer    Male   21         5   College      Management   \n",
              "2  Warehouse Associate  Female   19         4       PhD  Administration   \n",
              "3    Software Engineer    Male   20         5   Masters           Sales   \n",
              "4     Graphic Designer    Male   26         5   Masters     Engineering   \n",
              "\n",
              "   Seniority  BasePay  Bonus  TotalPay  \n",
              "0          2    42363   9938     52301  \n",
              "1          5   108476  11128    119604  \n",
              "2          5    90208   9268     99476  \n",
              "3          4   108080  10154    118234  \n",
              "4          5    99464   9319    108783  "
            ],
            "text/html": [
              "\n",
              "  <div id=\"df-ecb75d57-6dad-4152-bdd1-6e96c6bb92ed\">\n",
              "    <div class=\"colab-df-container\">\n",
              "      <div>\n",
              "<style scoped>\n",
              "    .dataframe tbody tr th:only-of-type {\n",
              "        vertical-align: middle;\n",
              "    }\n",
              "\n",
              "    .dataframe tbody tr th {\n",
              "        vertical-align: top;\n",
              "    }\n",
              "\n",
              "    .dataframe thead th {\n",
              "        text-align: right;\n",
              "    }\n",
              "</style>\n",
              "<table border=\"1\" class=\"dataframe\">\n",
              "  <thead>\n",
              "    <tr style=\"text-align: right;\">\n",
              "      <th></th>\n",
              "      <th>JobTitle</th>\n",
              "      <th>Gender</th>\n",
              "      <th>Age</th>\n",
              "      <th>PerfEval</th>\n",
              "      <th>Education</th>\n",
              "      <th>Dept</th>\n",
              "      <th>Seniority</th>\n",
              "      <th>BasePay</th>\n",
              "      <th>Bonus</th>\n",
              "      <th>TotalPay</th>\n",
              "    </tr>\n",
              "  </thead>\n",
              "  <tbody>\n",
              "    <tr>\n",
              "      <th>0</th>\n",
              "      <td>Graphic Designer</td>\n",
              "      <td>Female</td>\n",
              "      <td>18</td>\n",
              "      <td>5</td>\n",
              "      <td>College</td>\n",
              "      <td>Operations</td>\n",
              "      <td>2</td>\n",
              "      <td>42363</td>\n",
              "      <td>9938</td>\n",
              "      <td>52301</td>\n",
              "    </tr>\n",
              "    <tr>\n",
              "      <th>1</th>\n",
              "      <td>Software Engineer</td>\n",
              "      <td>Male</td>\n",
              "      <td>21</td>\n",
              "      <td>5</td>\n",
              "      <td>College</td>\n",
              "      <td>Management</td>\n",
              "      <td>5</td>\n",
              "      <td>108476</td>\n",
              "      <td>11128</td>\n",
              "      <td>119604</td>\n",
              "    </tr>\n",
              "    <tr>\n",
              "      <th>2</th>\n",
              "      <td>Warehouse Associate</td>\n",
              "      <td>Female</td>\n",
              "      <td>19</td>\n",
              "      <td>4</td>\n",
              "      <td>PhD</td>\n",
              "      <td>Administration</td>\n",
              "      <td>5</td>\n",
              "      <td>90208</td>\n",
              "      <td>9268</td>\n",
              "      <td>99476</td>\n",
              "    </tr>\n",
              "    <tr>\n",
              "      <th>3</th>\n",
              "      <td>Software Engineer</td>\n",
              "      <td>Male</td>\n",
              "      <td>20</td>\n",
              "      <td>5</td>\n",
              "      <td>Masters</td>\n",
              "      <td>Sales</td>\n",
              "      <td>4</td>\n",
              "      <td>108080</td>\n",
              "      <td>10154</td>\n",
              "      <td>118234</td>\n",
              "    </tr>\n",
              "    <tr>\n",
              "      <th>4</th>\n",
              "      <td>Graphic Designer</td>\n",
              "      <td>Male</td>\n",
              "      <td>26</td>\n",
              "      <td>5</td>\n",
              "      <td>Masters</td>\n",
              "      <td>Engineering</td>\n",
              "      <td>5</td>\n",
              "      <td>99464</td>\n",
              "      <td>9319</td>\n",
              "      <td>108783</td>\n",
              "    </tr>\n",
              "  </tbody>\n",
              "</table>\n",
              "</div>\n",
              "      <button class=\"colab-df-convert\" onclick=\"convertToInteractive('df-ecb75d57-6dad-4152-bdd1-6e96c6bb92ed')\"\n",
              "              title=\"Convert this dataframe to an interactive table.\"\n",
              "              style=\"display:none;\">\n",
              "        \n",
              "  <svg xmlns=\"http://www.w3.org/2000/svg\" height=\"24px\"viewBox=\"0 0 24 24\"\n",
              "       width=\"24px\">\n",
              "    <path d=\"M0 0h24v24H0V0z\" fill=\"none\"/>\n",
              "    <path d=\"M18.56 5.44l.94 2.06.94-2.06 2.06-.94-2.06-.94-.94-2.06-.94 2.06-2.06.94zm-11 1L8.5 8.5l.94-2.06 2.06-.94-2.06-.94L8.5 2.5l-.94 2.06-2.06.94zm10 10l.94 2.06.94-2.06 2.06-.94-2.06-.94-.94-2.06-.94 2.06-2.06.94z\"/><path d=\"M17.41 7.96l-1.37-1.37c-.4-.4-.92-.59-1.43-.59-.52 0-1.04.2-1.43.59L10.3 9.45l-7.72 7.72c-.78.78-.78 2.05 0 2.83L4 21.41c.39.39.9.59 1.41.59.51 0 1.02-.2 1.41-.59l7.78-7.78 2.81-2.81c.8-.78.8-2.07 0-2.86zM5.41 20L4 18.59l7.72-7.72 1.47 1.35L5.41 20z\"/>\n",
              "  </svg>\n",
              "      </button>\n",
              "      \n",
              "  <style>\n",
              "    .colab-df-container {\n",
              "      display:flex;\n",
              "      flex-wrap:wrap;\n",
              "      gap: 12px;\n",
              "    }\n",
              "\n",
              "    .colab-df-convert {\n",
              "      background-color: #E8F0FE;\n",
              "      border: none;\n",
              "      border-radius: 50%;\n",
              "      cursor: pointer;\n",
              "      display: none;\n",
              "      fill: #1967D2;\n",
              "      height: 32px;\n",
              "      padding: 0 0 0 0;\n",
              "      width: 32px;\n",
              "    }\n",
              "\n",
              "    .colab-df-convert:hover {\n",
              "      background-color: #E2EBFA;\n",
              "      box-shadow: 0px 1px 2px rgba(60, 64, 67, 0.3), 0px 1px 3px 1px rgba(60, 64, 67, 0.15);\n",
              "      fill: #174EA6;\n",
              "    }\n",
              "\n",
              "    [theme=dark] .colab-df-convert {\n",
              "      background-color: #3B4455;\n",
              "      fill: #D2E3FC;\n",
              "    }\n",
              "\n",
              "    [theme=dark] .colab-df-convert:hover {\n",
              "      background-color: #434B5C;\n",
              "      box-shadow: 0px 1px 3px 1px rgba(0, 0, 0, 0.15);\n",
              "      filter: drop-shadow(0px 1px 2px rgba(0, 0, 0, 0.3));\n",
              "      fill: #FFFFFF;\n",
              "    }\n",
              "  </style>\n",
              "\n",
              "      <script>\n",
              "        const buttonEl =\n",
              "          document.querySelector('#df-ecb75d57-6dad-4152-bdd1-6e96c6bb92ed button.colab-df-convert');\n",
              "        buttonEl.style.display =\n",
              "          google.colab.kernel.accessAllowed ? 'block' : 'none';\n",
              "\n",
              "        async function convertToInteractive(key) {\n",
              "          const element = document.querySelector('#df-ecb75d57-6dad-4152-bdd1-6e96c6bb92ed');\n",
              "          const dataTable =\n",
              "            await google.colab.kernel.invokeFunction('convertToInteractive',\n",
              "                                                     [key], {});\n",
              "          if (!dataTable) return;\n",
              "\n",
              "          const docLinkHtml = 'Like what you see? Visit the ' +\n",
              "            '<a target=\"_blank\" href=https://colab.research.google.com/notebooks/data_table.ipynb>data table notebook</a>'\n",
              "            + ' to learn more about interactive tables.';\n",
              "          element.innerHTML = '';\n",
              "          dataTable['output_type'] = 'display_data';\n",
              "          await google.colab.output.renderOutput(dataTable, element);\n",
              "          const docLink = document.createElement('div');\n",
              "          docLink.innerHTML = docLinkHtml;\n",
              "          element.appendChild(docLink);\n",
              "        }\n",
              "      </script>\n",
              "    </div>\n",
              "  </div>\n",
              "  "
            ]
          },
          "metadata": {},
          "execution_count": 53
        }
      ]
    },
    {
      "cell_type": "code",
      "source": [
        "# In order to compare the pay between men and women, we need to create a dataframe for each reported gender\n",
        "\n",
        "# Isolate the rows for women\n",
        "\n",
        "women_df = df.iloc[(df['Gender'] == 'Female').values]\n",
        "women_df.info()\n",
        "women_df.head()"
      ],
      "metadata": {
        "colab": {
          "base_uri": "https://localhost:8080/",
          "height": 493
        },
        "id": "1a1TZWGgUZue",
        "outputId": "3dcd880c-19f4-439d-a9ae-9dc0c1937315"
      },
      "execution_count": 54,
      "outputs": [
        {
          "output_type": "stream",
          "name": "stdout",
          "text": [
            "<class 'pandas.core.frame.DataFrame'>\n",
            "Int64Index: 468 entries, 0 to 995\n",
            "Data columns (total 10 columns):\n",
            " #   Column     Non-Null Count  Dtype \n",
            "---  ------     --------------  ----- \n",
            " 0   JobTitle   468 non-null    object\n",
            " 1   Gender     468 non-null    object\n",
            " 2   Age        468 non-null    int64 \n",
            " 3   PerfEval   468 non-null    int64 \n",
            " 4   Education  468 non-null    object\n",
            " 5   Dept       468 non-null    object\n",
            " 6   Seniority  468 non-null    int64 \n",
            " 7   BasePay    468 non-null    int64 \n",
            " 8   Bonus      468 non-null    int64 \n",
            " 9   TotalPay   468 non-null    int64 \n",
            "dtypes: int64(6), object(4)\n",
            "memory usage: 40.2+ KB\n"
          ]
        },
        {
          "output_type": "execute_result",
          "data": {
            "text/plain": [
              "              JobTitle  Gender  Age  PerfEval    Education            Dept  \\\n",
              "0     Graphic Designer  Female   18         5      College      Operations   \n",
              "2  Warehouse Associate  Female   19         4          PhD  Administration   \n",
              "5                   IT  Female   20         5          PhD      Operations   \n",
              "6     Graphic Designer  Female   20         5      College           Sales   \n",
              "8     Graphic Designer  Female   33         5  High School     Engineering   \n",
              "\n",
              "   Seniority  BasePay  Bonus  TotalPay  \n",
              "0          2    42363   9938     52301  \n",
              "2          5    90208   9268     99476  \n",
              "5          4    70890  10126     81016  \n",
              "6          4    67585  10541     78126  \n",
              "8          5   112976   9836    122812  "
            ],
            "text/html": [
              "\n",
              "  <div id=\"df-f35dea6b-66a2-4c77-886a-623893394acb\">\n",
              "    <div class=\"colab-df-container\">\n",
              "      <div>\n",
              "<style scoped>\n",
              "    .dataframe tbody tr th:only-of-type {\n",
              "        vertical-align: middle;\n",
              "    }\n",
              "\n",
              "    .dataframe tbody tr th {\n",
              "        vertical-align: top;\n",
              "    }\n",
              "\n",
              "    .dataframe thead th {\n",
              "        text-align: right;\n",
              "    }\n",
              "</style>\n",
              "<table border=\"1\" class=\"dataframe\">\n",
              "  <thead>\n",
              "    <tr style=\"text-align: right;\">\n",
              "      <th></th>\n",
              "      <th>JobTitle</th>\n",
              "      <th>Gender</th>\n",
              "      <th>Age</th>\n",
              "      <th>PerfEval</th>\n",
              "      <th>Education</th>\n",
              "      <th>Dept</th>\n",
              "      <th>Seniority</th>\n",
              "      <th>BasePay</th>\n",
              "      <th>Bonus</th>\n",
              "      <th>TotalPay</th>\n",
              "    </tr>\n",
              "  </thead>\n",
              "  <tbody>\n",
              "    <tr>\n",
              "      <th>0</th>\n",
              "      <td>Graphic Designer</td>\n",
              "      <td>Female</td>\n",
              "      <td>18</td>\n",
              "      <td>5</td>\n",
              "      <td>College</td>\n",
              "      <td>Operations</td>\n",
              "      <td>2</td>\n",
              "      <td>42363</td>\n",
              "      <td>9938</td>\n",
              "      <td>52301</td>\n",
              "    </tr>\n",
              "    <tr>\n",
              "      <th>2</th>\n",
              "      <td>Warehouse Associate</td>\n",
              "      <td>Female</td>\n",
              "      <td>19</td>\n",
              "      <td>4</td>\n",
              "      <td>PhD</td>\n",
              "      <td>Administration</td>\n",
              "      <td>5</td>\n",
              "      <td>90208</td>\n",
              "      <td>9268</td>\n",
              "      <td>99476</td>\n",
              "    </tr>\n",
              "    <tr>\n",
              "      <th>5</th>\n",
              "      <td>IT</td>\n",
              "      <td>Female</td>\n",
              "      <td>20</td>\n",
              "      <td>5</td>\n",
              "      <td>PhD</td>\n",
              "      <td>Operations</td>\n",
              "      <td>4</td>\n",
              "      <td>70890</td>\n",
              "      <td>10126</td>\n",
              "      <td>81016</td>\n",
              "    </tr>\n",
              "    <tr>\n",
              "      <th>6</th>\n",
              "      <td>Graphic Designer</td>\n",
              "      <td>Female</td>\n",
              "      <td>20</td>\n",
              "      <td>5</td>\n",
              "      <td>College</td>\n",
              "      <td>Sales</td>\n",
              "      <td>4</td>\n",
              "      <td>67585</td>\n",
              "      <td>10541</td>\n",
              "      <td>78126</td>\n",
              "    </tr>\n",
              "    <tr>\n",
              "      <th>8</th>\n",
              "      <td>Graphic Designer</td>\n",
              "      <td>Female</td>\n",
              "      <td>33</td>\n",
              "      <td>5</td>\n",
              "      <td>High School</td>\n",
              "      <td>Engineering</td>\n",
              "      <td>5</td>\n",
              "      <td>112976</td>\n",
              "      <td>9836</td>\n",
              "      <td>122812</td>\n",
              "    </tr>\n",
              "  </tbody>\n",
              "</table>\n",
              "</div>\n",
              "      <button class=\"colab-df-convert\" onclick=\"convertToInteractive('df-f35dea6b-66a2-4c77-886a-623893394acb')\"\n",
              "              title=\"Convert this dataframe to an interactive table.\"\n",
              "              style=\"display:none;\">\n",
              "        \n",
              "  <svg xmlns=\"http://www.w3.org/2000/svg\" height=\"24px\"viewBox=\"0 0 24 24\"\n",
              "       width=\"24px\">\n",
              "    <path d=\"M0 0h24v24H0V0z\" fill=\"none\"/>\n",
              "    <path d=\"M18.56 5.44l.94 2.06.94-2.06 2.06-.94-2.06-.94-.94-2.06-.94 2.06-2.06.94zm-11 1L8.5 8.5l.94-2.06 2.06-.94-2.06-.94L8.5 2.5l-.94 2.06-2.06.94zm10 10l.94 2.06.94-2.06 2.06-.94-2.06-.94-.94-2.06-.94 2.06-2.06.94z\"/><path d=\"M17.41 7.96l-1.37-1.37c-.4-.4-.92-.59-1.43-.59-.52 0-1.04.2-1.43.59L10.3 9.45l-7.72 7.72c-.78.78-.78 2.05 0 2.83L4 21.41c.39.39.9.59 1.41.59.51 0 1.02-.2 1.41-.59l7.78-7.78 2.81-2.81c.8-.78.8-2.07 0-2.86zM5.41 20L4 18.59l7.72-7.72 1.47 1.35L5.41 20z\"/>\n",
              "  </svg>\n",
              "      </button>\n",
              "      \n",
              "  <style>\n",
              "    .colab-df-container {\n",
              "      display:flex;\n",
              "      flex-wrap:wrap;\n",
              "      gap: 12px;\n",
              "    }\n",
              "\n",
              "    .colab-df-convert {\n",
              "      background-color: #E8F0FE;\n",
              "      border: none;\n",
              "      border-radius: 50%;\n",
              "      cursor: pointer;\n",
              "      display: none;\n",
              "      fill: #1967D2;\n",
              "      height: 32px;\n",
              "      padding: 0 0 0 0;\n",
              "      width: 32px;\n",
              "    }\n",
              "\n",
              "    .colab-df-convert:hover {\n",
              "      background-color: #E2EBFA;\n",
              "      box-shadow: 0px 1px 2px rgba(60, 64, 67, 0.3), 0px 1px 3px 1px rgba(60, 64, 67, 0.15);\n",
              "      fill: #174EA6;\n",
              "    }\n",
              "\n",
              "    [theme=dark] .colab-df-convert {\n",
              "      background-color: #3B4455;\n",
              "      fill: #D2E3FC;\n",
              "    }\n",
              "\n",
              "    [theme=dark] .colab-df-convert:hover {\n",
              "      background-color: #434B5C;\n",
              "      box-shadow: 0px 1px 3px 1px rgba(0, 0, 0, 0.15);\n",
              "      filter: drop-shadow(0px 1px 2px rgba(0, 0, 0, 0.3));\n",
              "      fill: #FFFFFF;\n",
              "    }\n",
              "  </style>\n",
              "\n",
              "      <script>\n",
              "        const buttonEl =\n",
              "          document.querySelector('#df-f35dea6b-66a2-4c77-886a-623893394acb button.colab-df-convert');\n",
              "        buttonEl.style.display =\n",
              "          google.colab.kernel.accessAllowed ? 'block' : 'none';\n",
              "\n",
              "        async function convertToInteractive(key) {\n",
              "          const element = document.querySelector('#df-f35dea6b-66a2-4c77-886a-623893394acb');\n",
              "          const dataTable =\n",
              "            await google.colab.kernel.invokeFunction('convertToInteractive',\n",
              "                                                     [key], {});\n",
              "          if (!dataTable) return;\n",
              "\n",
              "          const docLinkHtml = 'Like what you see? Visit the ' +\n",
              "            '<a target=\"_blank\" href=https://colab.research.google.com/notebooks/data_table.ipynb>data table notebook</a>'\n",
              "            + ' to learn more about interactive tables.';\n",
              "          element.innerHTML = '';\n",
              "          dataTable['output_type'] = 'display_data';\n",
              "          await google.colab.output.renderOutput(dataTable, element);\n",
              "          const docLink = document.createElement('div');\n",
              "          docLink.innerHTML = docLinkHtml;\n",
              "          element.appendChild(docLink);\n",
              "        }\n",
              "      </script>\n",
              "    </div>\n",
              "  </div>\n",
              "  "
            ]
          },
          "metadata": {},
          "execution_count": 54
        }
      ]
    },
    {
      "cell_type": "code",
      "source": [
        "# Isolate the rows for men\n",
        "\n",
        "men_df = df.iloc[(df['Gender'] == 'Male').values]\n",
        "men_df.info()\n",
        "men_df.head()"
      ],
      "metadata": {
        "colab": {
          "base_uri": "https://localhost:8080/",
          "height": 493
        },
        "id": "BRofFfk0YxUm",
        "outputId": "96b61a4c-7cd2-4388-d83d-041c98333b47"
      },
      "execution_count": 55,
      "outputs": [
        {
          "output_type": "stream",
          "name": "stdout",
          "text": [
            "<class 'pandas.core.frame.DataFrame'>\n",
            "Int64Index: 532 entries, 1 to 999\n",
            "Data columns (total 10 columns):\n",
            " #   Column     Non-Null Count  Dtype \n",
            "---  ------     --------------  ----- \n",
            " 0   JobTitle   532 non-null    object\n",
            " 1   Gender     532 non-null    object\n",
            " 2   Age        532 non-null    int64 \n",
            " 3   PerfEval   532 non-null    int64 \n",
            " 4   Education  532 non-null    object\n",
            " 5   Dept       532 non-null    object\n",
            " 6   Seniority  532 non-null    int64 \n",
            " 7   BasePay    532 non-null    int64 \n",
            " 8   Bonus      532 non-null    int64 \n",
            " 9   TotalPay   532 non-null    int64 \n",
            "dtypes: int64(6), object(4)\n",
            "memory usage: 45.7+ KB\n"
          ]
        },
        {
          "output_type": "execute_result",
          "data": {
            "text/plain": [
              "             JobTitle Gender  Age  PerfEval Education         Dept  Seniority  \\\n",
              "1   Software Engineer   Male   21         5   College   Management          5   \n",
              "3   Software Engineer   Male   20         5   Masters        Sales          4   \n",
              "4    Graphic Designer   Male   26         5   Masters  Engineering          5   \n",
              "7   Software Engineer   Male   18         4       PhD  Engineering          5   \n",
              "10   Graphic Designer   Male   24         5       PhD  Engineering          5   \n",
              "\n",
              "    BasePay  Bonus  TotalPay  \n",
              "1    108476  11128    119604  \n",
              "3    108080  10154    118234  \n",
              "4     99464   9319    108783  \n",
              "7     97523  10240    107763  \n",
              "10   102261  10212    112473  "
            ],
            "text/html": [
              "\n",
              "  <div id=\"df-8bca4c3d-1a96-4580-b9c7-523fe3ee8d72\">\n",
              "    <div class=\"colab-df-container\">\n",
              "      <div>\n",
              "<style scoped>\n",
              "    .dataframe tbody tr th:only-of-type {\n",
              "        vertical-align: middle;\n",
              "    }\n",
              "\n",
              "    .dataframe tbody tr th {\n",
              "        vertical-align: top;\n",
              "    }\n",
              "\n",
              "    .dataframe thead th {\n",
              "        text-align: right;\n",
              "    }\n",
              "</style>\n",
              "<table border=\"1\" class=\"dataframe\">\n",
              "  <thead>\n",
              "    <tr style=\"text-align: right;\">\n",
              "      <th></th>\n",
              "      <th>JobTitle</th>\n",
              "      <th>Gender</th>\n",
              "      <th>Age</th>\n",
              "      <th>PerfEval</th>\n",
              "      <th>Education</th>\n",
              "      <th>Dept</th>\n",
              "      <th>Seniority</th>\n",
              "      <th>BasePay</th>\n",
              "      <th>Bonus</th>\n",
              "      <th>TotalPay</th>\n",
              "    </tr>\n",
              "  </thead>\n",
              "  <tbody>\n",
              "    <tr>\n",
              "      <th>1</th>\n",
              "      <td>Software Engineer</td>\n",
              "      <td>Male</td>\n",
              "      <td>21</td>\n",
              "      <td>5</td>\n",
              "      <td>College</td>\n",
              "      <td>Management</td>\n",
              "      <td>5</td>\n",
              "      <td>108476</td>\n",
              "      <td>11128</td>\n",
              "      <td>119604</td>\n",
              "    </tr>\n",
              "    <tr>\n",
              "      <th>3</th>\n",
              "      <td>Software Engineer</td>\n",
              "      <td>Male</td>\n",
              "      <td>20</td>\n",
              "      <td>5</td>\n",
              "      <td>Masters</td>\n",
              "      <td>Sales</td>\n",
              "      <td>4</td>\n",
              "      <td>108080</td>\n",
              "      <td>10154</td>\n",
              "      <td>118234</td>\n",
              "    </tr>\n",
              "    <tr>\n",
              "      <th>4</th>\n",
              "      <td>Graphic Designer</td>\n",
              "      <td>Male</td>\n",
              "      <td>26</td>\n",
              "      <td>5</td>\n",
              "      <td>Masters</td>\n",
              "      <td>Engineering</td>\n",
              "      <td>5</td>\n",
              "      <td>99464</td>\n",
              "      <td>9319</td>\n",
              "      <td>108783</td>\n",
              "    </tr>\n",
              "    <tr>\n",
              "      <th>7</th>\n",
              "      <td>Software Engineer</td>\n",
              "      <td>Male</td>\n",
              "      <td>18</td>\n",
              "      <td>4</td>\n",
              "      <td>PhD</td>\n",
              "      <td>Engineering</td>\n",
              "      <td>5</td>\n",
              "      <td>97523</td>\n",
              "      <td>10240</td>\n",
              "      <td>107763</td>\n",
              "    </tr>\n",
              "    <tr>\n",
              "      <th>10</th>\n",
              "      <td>Graphic Designer</td>\n",
              "      <td>Male</td>\n",
              "      <td>24</td>\n",
              "      <td>5</td>\n",
              "      <td>PhD</td>\n",
              "      <td>Engineering</td>\n",
              "      <td>5</td>\n",
              "      <td>102261</td>\n",
              "      <td>10212</td>\n",
              "      <td>112473</td>\n",
              "    </tr>\n",
              "  </tbody>\n",
              "</table>\n",
              "</div>\n",
              "      <button class=\"colab-df-convert\" onclick=\"convertToInteractive('df-8bca4c3d-1a96-4580-b9c7-523fe3ee8d72')\"\n",
              "              title=\"Convert this dataframe to an interactive table.\"\n",
              "              style=\"display:none;\">\n",
              "        \n",
              "  <svg xmlns=\"http://www.w3.org/2000/svg\" height=\"24px\"viewBox=\"0 0 24 24\"\n",
              "       width=\"24px\">\n",
              "    <path d=\"M0 0h24v24H0V0z\" fill=\"none\"/>\n",
              "    <path d=\"M18.56 5.44l.94 2.06.94-2.06 2.06-.94-2.06-.94-.94-2.06-.94 2.06-2.06.94zm-11 1L8.5 8.5l.94-2.06 2.06-.94-2.06-.94L8.5 2.5l-.94 2.06-2.06.94zm10 10l.94 2.06.94-2.06 2.06-.94-2.06-.94-.94-2.06-.94 2.06-2.06.94z\"/><path d=\"M17.41 7.96l-1.37-1.37c-.4-.4-.92-.59-1.43-.59-.52 0-1.04.2-1.43.59L10.3 9.45l-7.72 7.72c-.78.78-.78 2.05 0 2.83L4 21.41c.39.39.9.59 1.41.59.51 0 1.02-.2 1.41-.59l7.78-7.78 2.81-2.81c.8-.78.8-2.07 0-2.86zM5.41 20L4 18.59l7.72-7.72 1.47 1.35L5.41 20z\"/>\n",
              "  </svg>\n",
              "      </button>\n",
              "      \n",
              "  <style>\n",
              "    .colab-df-container {\n",
              "      display:flex;\n",
              "      flex-wrap:wrap;\n",
              "      gap: 12px;\n",
              "    }\n",
              "\n",
              "    .colab-df-convert {\n",
              "      background-color: #E8F0FE;\n",
              "      border: none;\n",
              "      border-radius: 50%;\n",
              "      cursor: pointer;\n",
              "      display: none;\n",
              "      fill: #1967D2;\n",
              "      height: 32px;\n",
              "      padding: 0 0 0 0;\n",
              "      width: 32px;\n",
              "    }\n",
              "\n",
              "    .colab-df-convert:hover {\n",
              "      background-color: #E2EBFA;\n",
              "      box-shadow: 0px 1px 2px rgba(60, 64, 67, 0.3), 0px 1px 3px 1px rgba(60, 64, 67, 0.15);\n",
              "      fill: #174EA6;\n",
              "    }\n",
              "\n",
              "    [theme=dark] .colab-df-convert {\n",
              "      background-color: #3B4455;\n",
              "      fill: #D2E3FC;\n",
              "    }\n",
              "\n",
              "    [theme=dark] .colab-df-convert:hover {\n",
              "      background-color: #434B5C;\n",
              "      box-shadow: 0px 1px 3px 1px rgba(0, 0, 0, 0.15);\n",
              "      filter: drop-shadow(0px 1px 2px rgba(0, 0, 0, 0.3));\n",
              "      fill: #FFFFFF;\n",
              "    }\n",
              "  </style>\n",
              "\n",
              "      <script>\n",
              "        const buttonEl =\n",
              "          document.querySelector('#df-8bca4c3d-1a96-4580-b9c7-523fe3ee8d72 button.colab-df-convert');\n",
              "        buttonEl.style.display =\n",
              "          google.colab.kernel.accessAllowed ? 'block' : 'none';\n",
              "\n",
              "        async function convertToInteractive(key) {\n",
              "          const element = document.querySelector('#df-8bca4c3d-1a96-4580-b9c7-523fe3ee8d72');\n",
              "          const dataTable =\n",
              "            await google.colab.kernel.invokeFunction('convertToInteractive',\n",
              "                                                     [key], {});\n",
              "          if (!dataTable) return;\n",
              "\n",
              "          const docLinkHtml = 'Like what you see? Visit the ' +\n",
              "            '<a target=\"_blank\" href=https://colab.research.google.com/notebooks/data_table.ipynb>data table notebook</a>'\n",
              "            + ' to learn more about interactive tables.';\n",
              "          element.innerHTML = '';\n",
              "          dataTable['output_type'] = 'display_data';\n",
              "          await google.colab.output.renderOutput(dataTable, element);\n",
              "          const docLink = document.createElement('div');\n",
              "          docLink.innerHTML = docLinkHtml;\n",
              "          element.appendChild(docLink);\n",
              "        }\n",
              "      </script>\n",
              "    </div>\n",
              "  </div>\n",
              "  "
            ]
          },
          "metadata": {},
          "execution_count": 55
        }
      ]
    },
    {
      "cell_type": "markdown",
      "source": [
        "Now that I have the data organized by gender and an assigned column for TotalPay, I will run a t-test to compare the total pay means between men and women to see if there is a statistical difference.  I am also calculating the standard error and confidence intervals at 95%."
      ],
      "metadata": {
        "id": "ybiN0cPsHTKX"
      }
    },
    {
      "cell_type": "code",
      "source": [
        "# Run t-test to compare the pay means between men and women\n",
        "\n",
        "stats.ttest_ind(men_df['TotalPay'], women_df['TotalPay'])"
      ],
      "metadata": {
        "colab": {
          "base_uri": "https://localhost:8080/"
        },
        "id": "dXqDJ0OKZH2w",
        "outputId": "afadd6bb-d0fa-40b1-bb1e-228259aea511"
      },
      "execution_count": 56,
      "outputs": [
        {
          "output_type": "execute_result",
          "data": {
            "text/plain": [
              "Ttest_indResult(statistic=5.407461816876623, pvalue=8.000016978237565e-08)"
            ]
          },
          "metadata": {},
          "execution_count": 56
        }
      ]
    },
    {
      "cell_type": "code",
      "source": [
        "from pandas.compat.numpy.function import MEDIAN_DEFAULTS\n",
        "# Calculate the sample size, mean, and variance for each sample\n",
        "\n",
        "sample_1_n = women_df.shape[0]\n",
        "sample_2_n = men_df.shape[0]\n",
        "sample_1_mean = women_df['TotalPay'].mean()\n",
        "sample_2_mean = men_df['TotalPay'].mean()\n",
        "sample_1_var = women_df['TotalPay'].var()\n",
        "sample_2_var = men_df['TotalPay'].var()"
      ],
      "metadata": {
        "id": "Fm7wxkpjZmwk"
      },
      "execution_count": 57,
      "outputs": []
    },
    {
      "cell_type": "code",
      "source": [
        "# Calculate the standard error and compute confidence intervals\n",
        "\n",
        "std_err_difference = math.sqrt((sample_1_var/sample_1_n)+(sample_2_var/sample_2_n))\n",
        "\n",
        "mean_difference = sample_2_mean - sample_1_mean\n",
        "\n",
        "margin_of_error = 1.96 * std_err_difference\n",
        "ci_lower = mean_difference - margin_of_error\n",
        "ci_upper = mean_difference + margin_of_error\n",
        "\n",
        "print(\"The difference in means at the 95% confidence interval is between \"+str(ci_lower)+\" and \"+str(ci_upper)+\".\")"
      ],
      "metadata": {
        "colab": {
          "base_uri": "https://localhost:8080/"
        },
        "id": "adlYLu9DbnEL",
        "outputId": "158d19b1-c143-4deb-e10a-fee8e2e4788a"
      },
      "execution_count": 58,
      "outputs": [
        {
          "output_type": "stream",
          "name": "stdout",
          "text": [
            "The difference in means at the 95% confidence interval is between 5429.219221633583 and 11574.475528061143.\n"
          ]
        }
      ]
    },
    {
      "cell_type": "code",
      "source": [
        "# Visualize the relationship between men and women pay means\n",
        "\n",
        "sns.set_style(\"dark\")\n",
        "sns.despine()\n",
        "\n",
        "sns.histplot(x='TotalPay', hue='Gender', data=df, kde=True)"
      ],
      "metadata": {
        "colab": {
          "base_uri": "https://localhost:8080/",
          "height": 302
        },
        "id": "gCorw2Wsb-t0",
        "outputId": "4e3716d0-634e-413c-8950-903e91a2969f"
      },
      "execution_count": 59,
      "outputs": [
        {
          "output_type": "execute_result",
          "data": {
            "text/plain": [
              "<matplotlib.axes._subplots.AxesSubplot at 0x7fbdf16d1ed0>"
            ]
          },
          "metadata": {},
          "execution_count": 59
        },
        {
          "output_type": "display_data",
          "data": {
            "text/plain": [
              "<Figure size 432x288 with 1 Axes>"
            ],
            "image/png": "[encoded data removed]"
          },
          "metadata": {}
        }
      ]
    },
    {
      "cell_type": "markdown",
      "source": [
        "# Findings for Hypothesis Test #1\n",
        "\n",
        "\n",
        "\n",
        "*   Reject the null that there is no significant difference in population means between the salary of men and women \n",
        "*   The difference is significant at p < 0.05\n",
        "*   With 95% confidence, the difference is between 5,429.22 and 11,574.48\n",
        "\n",
        "\n",
        "> The statistical analysis indicates that there is a significant difference in salaries between men and women in this 2019 dataset.  \n",
        "\n",
        "> The p-value indicates that there is less than a 5% chance of observing a difference in pay as large as I observed, even if there was no difference in the mean pay between men and women (if the null hypothesis was true). \n",
        "\n",
        "> With 95% confidence, the true difference in salary between men and women is between 5,429.22 - 11,574.48, with men holding the higher average salary.\n",
        "\n",
        "\n",
        "\n",
        "\n",
        "\n",
        "\n",
        "\n",
        "\n"
      ],
      "metadata": {
        "id": "os9eVAL6NVWc"
      }
    },
    {
      "cell_type": "markdown",
      "source": [
        "# **Hypothesis Test #2a**\n",
        "\n",
        "*   **Null:**  There will not be a significant difference in average pay between men and women between the ages of 18-41.\n",
        "*   **Alternate:**  There will be a significant difference in average pay between men and women between the ages of 18-41.\n",
        "\n",
        "Determining which age groups to test for Hypothesis #2a and #2b was decided by two main factors:  Population count of the age groups in the sample, and by external research on the age of peak salaries by gender.\n",
        "\n",
        "> First, the age range of 18-41 accounts for exactly half of the age groups represented (there are 48 unique ages accounted for between the reported range of 18-65).  I calculated the populations for ranges that extended to age 42, 43, and 44, however, the difference in populations between men and women stayed relatively the same in all age ranges I looked at up through the mid 40's.  Therefore, I kept an even age range split.\n",
        "\n",
        "> Second, outside research indicates women may hit their peak salary in their early 40's, whereas men continue to build their salaries and achieve their highest pay by their mid 50's.  I want to explore this observation by using the early 40's to divide the data among the salaries of men and women to understand if that observation in significant pay difference by age is also reflected in this dataset. "
      ],
      "metadata": {
        "id": "bPglpAFogYpS"
      }
    },
    {
      "cell_type": "code",
      "source": [
        "# Create a df for women between the ages of 18-41\n",
        "# Use the previous dataframes that filtered by gender\n",
        "\n",
        "# Pull up a section of the table to ensure the correct ages have been selected\n",
        "\n",
        "upto41_women_df = women_df.iloc[(women_df['Age'] <= 41).values]\n",
        "\n",
        "upto41_women_df.tail()"
      ],
      "metadata": {
        "colab": {
          "base_uri": "https://localhost:8080/",
          "height": 204
        },
        "id": "tOpz92VjnYXK",
        "outputId": "0f619e01-59fc-40d4-b692-ee0aeda08211"
      },
      "execution_count": 60,
      "outputs": [
        {
          "output_type": "execute_result",
          "data": {
            "text/plain": [
              "                JobTitle  Gender  Age  PerfEval    Education            Dept  \\\n",
              "910     Graphic Designer  Female   33         1  High School           Sales   \n",
              "913               Driver  Female   22         1  High School  Administration   \n",
              "914  Marketing Associate  Female   41         1          PhD      Management   \n",
              "941                   IT  Female   32         2  High School     Engineering   \n",
              "942  Marketing Associate  Female   38         1          PhD     Engineering   \n",
              "\n",
              "     Seniority  BasePay  Bonus  TotalPay  \n",
              "910          1    63914   3521     67435  \n",
              "913          1    60026   4605     64631  \n",
              "914          5   108587   4275    112862  \n",
              "941          1    59377   5236     64613  \n",
              "942          2    76726   4204     80930  "
            ],
            "text/html": [
              "\n",
              "  <div id=\"df-06db6c74-3eba-461e-ae1d-06d8ff300ae8\">\n",
              "    <div class=\"colab-df-container\">\n",
              "      <div>\n",
              "<style scoped>\n",
              "    .dataframe tbody tr th:only-of-type {\n",
              "        vertical-align: middle;\n",
              "    }\n",
              "\n",
              "    .dataframe tbody tr th {\n",
              "        vertical-align: top;\n",
              "    }\n",
              "\n",
              "    .dataframe thead th {\n",
              "        text-align: right;\n",
              "    }\n",
              "</style>\n",
              "<table border=\"1\" class=\"dataframe\">\n",
              "  <thead>\n",
              "    <tr style=\"text-align: right;\">\n",
              "      <th></th>\n",
              "      <th>JobTitle</th>\n",
              "      <th>Gender</th>\n",
              "      <th>Age</th>\n",
              "      <th>PerfEval</th>\n",
              "      <th>Education</th>\n",
              "      <th>Dept</th>\n",
              "      <th>Seniority</th>\n",
              "      <th>BasePay</th>\n",
              "      <th>Bonus</th>\n",
              "      <th>TotalPay</th>\n",
              "    </tr>\n",
              "  </thead>\n",
              "  <tbody>\n",
              "    <tr>\n",
              "      <th>910</th>\n",
              "      <td>Graphic Designer</td>\n",
              "      <td>Female</td>\n",
              "      <td>33</td>\n",
              "      <td>1</td>\n",
              "      <td>High School</td>\n",
              "      <td>Sales</td>\n",
              "      <td>1</td>\n",
              "      <td>63914</td>\n",
              "      <td>3521</td>\n",
              "      <td>67435</td>\n",
              "    </tr>\n",
              "    <tr>\n",
              "      <th>913</th>\n",
              "      <td>Driver</td>\n",
              "      <td>Female</td>\n",
              "      <td>22</td>\n",
              "      <td>1</td>\n",
              "      <td>High School</td>\n",
              "      <td>Administration</td>\n",
              "      <td>1</td>\n",
              "      <td>60026</td>\n",
              "      <td>4605</td>\n",
              "      <td>64631</td>\n",
              "    </tr>\n",
              "    <tr>\n",
              "      <th>914</th>\n",
              "      <td>Marketing Associate</td>\n",
              "      <td>Female</td>\n",
              "      <td>41</td>\n",
              "      <td>1</td>\n",
              "      <td>PhD</td>\n",
              "      <td>Management</td>\n",
              "      <td>5</td>\n",
              "      <td>108587</td>\n",
              "      <td>4275</td>\n",
              "      <td>112862</td>\n",
              "    </tr>\n",
              "    <tr>\n",
              "      <th>941</th>\n",
              "      <td>IT</td>\n",
              "      <td>Female</td>\n",
              "      <td>32</td>\n",
              "      <td>2</td>\n",
              "      <td>High School</td>\n",
              "      <td>Engineering</td>\n",
              "      <td>1</td>\n",
              "      <td>59377</td>\n",
              "      <td>5236</td>\n",
              "      <td>64613</td>\n",
              "    </tr>\n",
              "    <tr>\n",
              "      <th>942</th>\n",
              "      <td>Marketing Associate</td>\n",
              "      <td>Female</td>\n",
              "      <td>38</td>\n",
              "      <td>1</td>\n",
              "      <td>PhD</td>\n",
              "      <td>Engineering</td>\n",
              "      <td>2</td>\n",
              "      <td>76726</td>\n",
              "      <td>4204</td>\n",
              "      <td>80930</td>\n",
              "    </tr>\n",
              "  </tbody>\n",
              "</table>\n",
              "</div>\n",
              "      <button class=\"colab-df-convert\" onclick=\"convertToInteractive('df-06db6c74-3eba-461e-ae1d-06d8ff300ae8')\"\n",
              "              title=\"Convert this dataframe to an interactive table.\"\n",
              "              style=\"display:none;\">\n",
              "        \n",
              "  <svg xmlns=\"http://www.w3.org/2000/svg\" height=\"24px\"viewBox=\"0 0 24 24\"\n",
              "       width=\"24px\">\n",
              "    <path d=\"M0 0h24v24H0V0z\" fill=\"none\"/>\n",
              "    <path d=\"M18.56 5.44l.94 2.06.94-2.06 2.06-.94-2.06-.94-.94-2.06-.94 2.06-2.06.94zm-11 1L8.5 8.5l.94-2.06 2.06-.94-2.06-.94L8.5 2.5l-.94 2.06-2.06.94zm10 10l.94 2.06.94-2.06 2.06-.94-2.06-.94-.94-2.06-.94 2.06-2.06.94z\"/><path d=\"M17.41 7.96l-1.37-1.37c-.4-.4-.92-.59-1.43-.59-.52 0-1.04.2-1.43.59L10.3 9.45l-7.72 7.72c-.78.78-.78 2.05 0 2.83L4 21.41c.39.39.9.59 1.41.59.51 0 1.02-.2 1.41-.59l7.78-7.78 2.81-2.81c.8-.78.8-2.07 0-2.86zM5.41 20L4 18.59l7.72-7.72 1.47 1.35L5.41 20z\"/>\n",
              "  </svg>\n",
              "      </button>\n",
              "      \n",
              "  <style>\n",
              "    .colab-df-container {\n",
              "      display:flex;\n",
              "      flex-wrap:wrap;\n",
              "      gap: 12px;\n",
              "    }\n",
              "\n",
              "    .colab-df-convert {\n",
              "      background-color: #E8F0FE;\n",
              "      border: none;\n",
              "      border-radius: 50%;\n",
              "      cursor: pointer;\n",
              "      display: none;\n",
              "      fill: #1967D2;\n",
              "      height: 32px;\n",
              "      padding: 0 0 0 0;\n",
              "      width: 32px;\n",
              "    }\n",
              "\n",
              "    .colab-df-convert:hover {\n",
              "      background-color: #E2EBFA;\n",
              "      box-shadow: 0px 1px 2px rgba(60, 64, 67, 0.3), 0px 1px 3px 1px rgba(60, 64, 67, 0.15);\n",
              "      fill: #174EA6;\n",
              "    }\n",
              "\n",
              "    [theme=dark] .colab-df-convert {\n",
              "      background-color: #3B4455;\n",
              "      fill: #D2E3FC;\n",
              "    }\n",
              "\n",
              "    [theme=dark] .colab-df-convert:hover {\n",
              "      background-color: #434B5C;\n",
              "      box-shadow: 0px 1px 3px 1px rgba(0, 0, 0, 0.15);\n",
              "      filter: drop-shadow(0px 1px 2px rgba(0, 0, 0, 0.3));\n",
              "      fill: #FFFFFF;\n",
              "    }\n",
              "  </style>\n",
              "\n",
              "      <script>\n",
              "        const buttonEl =\n",
              "          document.querySelector('#df-06db6c74-3eba-461e-ae1d-06d8ff300ae8 button.colab-df-convert');\n",
              "        buttonEl.style.display =\n",
              "          google.colab.kernel.accessAllowed ? 'block' : 'none';\n",
              "\n",
              "        async function convertToInteractive(key) {\n",
              "          const element = document.querySelector('#df-06db6c74-3eba-461e-ae1d-06d8ff300ae8');\n",
              "          const dataTable =\n",
              "            await google.colab.kernel.invokeFunction('convertToInteractive',\n",
              "                                                     [key], {});\n",
              "          if (!dataTable) return;\n",
              "\n",
              "          const docLinkHtml = 'Like what you see? Visit the ' +\n",
              "            '<a target=\"_blank\" href=https://colab.research.google.com/notebooks/data_table.ipynb>data table notebook</a>'\n",
              "            + ' to learn more about interactive tables.';\n",
              "          element.innerHTML = '';\n",
              "          dataTable['output_type'] = 'display_data';\n",
              "          await google.colab.output.renderOutput(dataTable, element);\n",
              "          const docLink = document.createElement('div');\n",
              "          docLink.innerHTML = docLinkHtml;\n",
              "          element.appendChild(docLink);\n",
              "        }\n",
              "      </script>\n",
              "    </div>\n",
              "  </div>\n",
              "  "
            ]
          },
          "metadata": {},
          "execution_count": 60
        }
      ]
    },
    {
      "cell_type": "code",
      "source": [
        "# Count the number of rows (sample population)\n",
        "\n",
        "upto41_women_df.shape"
      ],
      "metadata": {
        "colab": {
          "base_uri": "https://localhost:8080/"
        },
        "id": "WX35ShZ83-PK",
        "outputId": "b4973b0f-fa1d-4e3b-9c3c-8e0ecfd8ccac"
      },
      "execution_count": 61,
      "outputs": [
        {
          "output_type": "execute_result",
          "data": {
            "text/plain": [
              "(226, 10)"
            ]
          },
          "metadata": {},
          "execution_count": 61
        }
      ]
    },
    {
      "cell_type": "code",
      "source": [
        "# Create a df for men between the ages of 18-41\n",
        "# Use the previous dataframes that filtered by gender\n",
        "\n",
        "# Pull up a section of the table to ensure the correct ages have been selected\n",
        "\n",
        "upto41_men_df = men_df.iloc[(men_df['Age'] <= 41).values]\n",
        "upto41_men_df.tail(15)"
      ],
      "metadata": {
        "colab": {
          "base_uri": "https://localhost:8080/",
          "height": 514
        },
        "id": "33Un4Qi2rBuS",
        "outputId": "25c1f75c-60cf-49ac-9c54-e99742f1405b"
      },
      "execution_count": 62,
      "outputs": [
        {
          "output_type": "execute_result",
          "data": {
            "text/plain": [
              "                JobTitle Gender  Age  PerfEval    Education            Dept  \\\n",
              "879                   IT   Male   31         1      Masters           Sales   \n",
              "884    Financial Analyst   Male   39         2      College           Sales   \n",
              "888    Software Engineer   Male   29         1  High School           Sales   \n",
              "890              Manager   Male   41         1      Masters           Sales   \n",
              "893    Financial Analyst   Male   29         1      Masters      Operations   \n",
              "897               Driver   Male   33         1  High School      Management   \n",
              "903       Data Scientist   Male   37         1          PhD  Administration   \n",
              "918    Software Engineer   Male   36         1      Masters      Operations   \n",
              "919                   IT   Male   31         1      College      Operations   \n",
              "931                   IT   Male   36         1  High School           Sales   \n",
              "934    Software Engineer   Male   37         1  High School           Sales   \n",
              "948    Software Engineer   Male   36         1      Masters      Operations   \n",
              "949     Graphic Designer   Male   30         1      College      Operations   \n",
              "960    Financial Analyst   Male   39         1      College     Engineering   \n",
              "965  Warehouse Associate   Male   34         1      Masters      Operations   \n",
              "\n",
              "     Seniority  BasePay  Bonus  TotalPay  \n",
              "879          2    93358   3223     96581  \n",
              "884          1    61609   3738     65347  \n",
              "888          1    86650   3518     90168  \n",
              "890          2   119794   3712    123506  \n",
              "893          2    84725   3274     87999  \n",
              "897          1    59493   3955     63448  \n",
              "903          2    78836   3588     82424  \n",
              "918          1    86375   3368     89743  \n",
              "919          1    49449   4149     53598  \n",
              "931          4   109832   3528    113360  \n",
              "934          1    81547   3510     85057  \n",
              "948          1    93855   4099     97954  \n",
              "949          2    36642   4388     41030  \n",
              "960          4    99643   3789    103432  \n",
              "965          1    45915   4765     50680  "
            ],
            "text/html": [
              "\n",
              "  <div id=\"df-b9b69fd3-daa3-4187-96dc-63e0d3085f65\">\n",
              "    <div class=\"colab-df-container\">\n",
              "      <div>\n",
              "<style scoped>\n",
              "    .dataframe tbody tr th:only-of-type {\n",
              "        vertical-align: middle;\n",
              "    }\n",
              "\n",
              "    .dataframe tbody tr th {\n",
              "        vertical-align: top;\n",
              "    }\n",
              "\n",
              "    .dataframe thead th {\n",
              "        text-align: right;\n",
              "    }\n",
              "</style>\n",
              "<table border=\"1\" class=\"dataframe\">\n",
              "  <thead>\n",
              "    <tr style=\"text-align: right;\">\n",
              "      <th></th>\n",
              "      <th>JobTitle</th>\n",
              "      <th>Gender</th>\n",
              "      <th>Age</th>\n",
              "      <th>PerfEval</th>\n",
              "      <th>Education</th>\n",
              "      <th>Dept</th>\n",
              "      <th>Seniority</th>\n",
              "      <th>BasePay</th>\n",
              "      <th>Bonus</th>\n",
              "      <th>TotalPay</th>\n",
              "    </tr>\n",
              "  </thead>\n",
              "  <tbody>\n",
              "    <tr>\n",
              "      <th>879</th>\n",
              "      <td>IT</td>\n",
              "      <td>Male</td>\n",
              "      <td>31</td>\n",
              "      <td>1</td>\n",
              "      <td>Masters</td>\n",
              "      <td>Sales</td>\n",
              "      <td>2</td>\n",
              "      <td>93358</td>\n",
              "      <td>3223</td>\n",
              "      <td>96581</td>\n",
              "    </tr>\n",
              "    <tr>\n",
              "      <th>884</th>\n",
              "      <td>Financial Analyst</td>\n",
              "      <td>Male</td>\n",
              "      <td>39</td>\n",
              "      <td>2</td>\n",
              "      <td>College</td>\n",
              "      <td>Sales</td>\n",
              "      <td>1</td>\n",
              "      <td>61609</td>\n",
              "      <td>3738</td>\n",
              "      <td>65347</td>\n",
              "    </tr>\n",
              "    <tr>\n",
              "      <th>888</th>\n",
              "      <td>Software Engineer</td>\n",
              "      <td>Male</td>\n",
              "      <td>29</td>\n",
              "      <td>1</td>\n",
              "      <td>High School</td>\n",
              "      <td>Sales</td>\n",
              "      <td>1</td>\n",
              "      <td>86650</td>\n",
              "      <td>3518</td>\n",
              "      <td>90168</td>\n",
              "    </tr>\n",
              "    <tr>\n",
              "      <th>890</th>\n",
              "      <td>Manager</td>\n",
              "      <td>Male</td>\n",
              "      <td>41</td>\n",
              "      <td>1</td>\n",
              "      <td>Masters</td>\n",
              "      <td>Sales</td>\n",
              "      <td>2</td>\n",
              "      <td>119794</td>\n",
              "      <td>3712</td>\n",
              "      <td>123506</td>\n",
              "    </tr>\n",
              "    <tr>\n",
              "      <th>893</th>\n",
              "      <td>Financial Analyst</td>\n",
              "      <td>Male</td>\n",
              "      <td>29</td>\n",
              "      <td>1</td>\n",
              "      <td>Masters</td>\n",
              "      <td>Operations</td>\n",
              "      <td>2</td>\n",
              "      <td>84725</td>\n",
              "      <td>3274</td>\n",
              "      <td>87999</td>\n",
              "    </tr>\n",
              "    <tr>\n",
              "      <th>897</th>\n",
              "      <td>Driver</td>\n",
              "      <td>Male</td>\n",
              "      <td>33</td>\n",
              "      <td>1</td>\n",
              "      <td>High School</td>\n",
              "      <td>Management</td>\n",
              "      <td>1</td>\n",
              "      <td>59493</td>\n",
              "      <td>3955</td>\n",
              "      <td>63448</td>\n",
              "    </tr>\n",
              "    <tr>\n",
              "      <th>903</th>\n",
              "      <td>Data Scientist</td>\n",
              "      <td>Male</td>\n",
              "      <td>37</td>\n",
              "      <td>1</td>\n",
              "      <td>PhD</td>\n",
              "      <td>Administration</td>\n",
              "      <td>2</td>\n",
              "      <td>78836</td>\n",
              "      <td>3588</td>\n",
              "      <td>82424</td>\n",
              "    </tr>\n",
              "    <tr>\n",
              "      <th>918</th>\n",
              "      <td>Software Engineer</td>\n",
              "      <td>Male</td>\n",
              "      <td>36</td>\n",
              "      <td>1</td>\n",
              "      <td>Masters</td>\n",
              "      <td>Operations</td>\n",
              "      <td>1</td>\n",
              "      <td>86375</td>\n",
              "      <td>3368</td>\n",
              "      <td>89743</td>\n",
              "    </tr>\n",
              "    <tr>\n",
              "      <th>919</th>\n",
              "      <td>IT</td>\n",
              "      <td>Male</td>\n",
              "      <td>31</td>\n",
              "      <td>1</td>\n",
              "      <td>College</td>\n",
              "      <td>Operations</td>\n",
              "      <td>1</td>\n",
              "      <td>49449</td>\n",
              "      <td>4149</td>\n",
              "      <td>53598</td>\n",
              "    </tr>\n",
              "    <tr>\n",
              "      <th>931</th>\n",
              "      <td>IT</td>\n",
              "      <td>Male</td>\n",
              "      <td>36</td>\n",
              "      <td>1</td>\n",
              "      <td>High School</td>\n",
              "      <td>Sales</td>\n",
              "      <td>4</td>\n",
              "      <td>109832</td>\n",
              "      <td>3528</td>\n",
              "      <td>113360</td>\n",
              "    </tr>\n",
              "    <tr>\n",
              "      <th>934</th>\n",
              "      <td>Software Engineer</td>\n",
              "      <td>Male</td>\n",
              "      <td>37</td>\n",
              "      <td>1</td>\n",
              "      <td>High School</td>\n",
              "      <td>Sales</td>\n",
              "      <td>1</td>\n",
              "      <td>81547</td>\n",
              "      <td>3510</td>\n",
              "      <td>85057</td>\n",
              "    </tr>\n",
              "    <tr>\n",
              "      <th>948</th>\n",
              "      <td>Software Engineer</td>\n",
              "      <td>Male</td>\n",
              "      <td>36</td>\n",
              "      <td>1</td>\n",
              "      <td>Masters</td>\n",
              "      <td>Operations</td>\n",
              "      <td>1</td>\n",
              "      <td>93855</td>\n",
              "      <td>4099</td>\n",
              "      <td>97954</td>\n",
              "    </tr>\n",
              "    <tr>\n",
              "      <th>949</th>\n",
              "      <td>Graphic Designer</td>\n",
              "      <td>Male</td>\n",
              "      <td>30</td>\n",
              "      <td>1</td>\n",
              "      <td>College</td>\n",
              "      <td>Operations</td>\n",
              "      <td>2</td>\n",
              "      <td>36642</td>\n",
              "      <td>4388</td>\n",
              "      <td>41030</td>\n",
              "    </tr>\n",
              "    <tr>\n",
              "      <th>960</th>\n",
              "      <td>Financial Analyst</td>\n",
              "      <td>Male</td>\n",
              "      <td>39</td>\n",
              "      <td>1</td>\n",
              "      <td>College</td>\n",
              "      <td>Engineering</td>\n",
              "      <td>4</td>\n",
              "      <td>99643</td>\n",
              "      <td>3789</td>\n",
              "      <td>103432</td>\n",
              "    </tr>\n",
              "    <tr>\n",
              "      <th>965</th>\n",
              "      <td>Warehouse Associate</td>\n",
              "      <td>Male</td>\n",
              "      <td>34</td>\n",
              "      <td>1</td>\n",
              "      <td>Masters</td>\n",
              "      <td>Operations</td>\n",
              "      <td>1</td>\n",
              "      <td>45915</td>\n",
              "      <td>4765</td>\n",
              "      <td>50680</td>\n",
              "    </tr>\n",
              "  </tbody>\n",
              "</table>\n",
              "</div>\n",
              "      <button class=\"colab-df-convert\" onclick=\"convertToInteractive('df-b9b69fd3-daa3-4187-96dc-63e0d3085f65')\"\n",
              "              title=\"Convert this dataframe to an interactive table.\"\n",
              "              style=\"display:none;\">\n",
              "        \n",
              "  <svg xmlns=\"http://www.w3.org/2000/svg\" height=\"24px\"viewBox=\"0 0 24 24\"\n",
              "       width=\"24px\">\n",
              "    <path d=\"M0 0h24v24H0V0z\" fill=\"none\"/>\n",
              "    <path d=\"M18.56 5.44l.94 2.06.94-2.06 2.06-.94-2.06-.94-.94-2.06-.94 2.06-2.06.94zm-11 1L8.5 8.5l.94-2.06 2.06-.94-2.06-.94L8.5 2.5l-.94 2.06-2.06.94zm10 10l.94 2.06.94-2.06 2.06-.94-2.06-.94-.94-2.06-.94 2.06-2.06.94z\"/><path d=\"M17.41 7.96l-1.37-1.37c-.4-.4-.92-.59-1.43-.59-.52 0-1.04.2-1.43.59L10.3 9.45l-7.72 7.72c-.78.78-.78 2.05 0 2.83L4 21.41c.39.39.9.59 1.41.59.51 0 1.02-.2 1.41-.59l7.78-7.78 2.81-2.81c.8-.78.8-2.07 0-2.86zM5.41 20L4 18.59l7.72-7.72 1.47 1.35L5.41 20z\"/>\n",
              "  </svg>\n",
              "      </button>\n",
              "      \n",
              "  <style>\n",
              "    .colab-df-container {\n",
              "      display:flex;\n",
              "      flex-wrap:wrap;\n",
              "      gap: 12px;\n",
              "    }\n",
              "\n",
              "    .colab-df-convert {\n",
              "      background-color: #E8F0FE;\n",
              "      border: none;\n",
              "      border-radius: 50%;\n",
              "      cursor: pointer;\n",
              "      display: none;\n",
              "      fill: #1967D2;\n",
              "      height: 32px;\n",
              "      padding: 0 0 0 0;\n",
              "      width: 32px;\n",
              "    }\n",
              "\n",
              "    .colab-df-convert:hover {\n",
              "      background-color: #E2EBFA;\n",
              "      box-shadow: 0px 1px 2px rgba(60, 64, 67, 0.3), 0px 1px 3px 1px rgba(60, 64, 67, 0.15);\n",
              "      fill: #174EA6;\n",
              "    }\n",
              "\n",
              "    [theme=dark] .colab-df-convert {\n",
              "      background-color: #3B4455;\n",
              "      fill: #D2E3FC;\n",
              "    }\n",
              "\n",
              "    [theme=dark] .colab-df-convert:hover {\n",
              "      background-color: #434B5C;\n",
              "      box-shadow: 0px 1px 3px 1px rgba(0, 0, 0, 0.15);\n",
              "      filter: drop-shadow(0px 1px 2px rgba(0, 0, 0, 0.3));\n",
              "      fill: #FFFFFF;\n",
              "    }\n",
              "  </style>\n",
              "\n",
              "      <script>\n",
              "        const buttonEl =\n",
              "          document.querySelector('#df-b9b69fd3-daa3-4187-96dc-63e0d3085f65 button.colab-df-convert');\n",
              "        buttonEl.style.display =\n",
              "          google.colab.kernel.accessAllowed ? 'block' : 'none';\n",
              "\n",
              "        async function convertToInteractive(key) {\n",
              "          const element = document.querySelector('#df-b9b69fd3-daa3-4187-96dc-63e0d3085f65');\n",
              "          const dataTable =\n",
              "            await google.colab.kernel.invokeFunction('convertToInteractive',\n",
              "                                                     [key], {});\n",
              "          if (!dataTable) return;\n",
              "\n",
              "          const docLinkHtml = 'Like what you see? Visit the ' +\n",
              "            '<a target=\"_blank\" href=https://colab.research.google.com/notebooks/data_table.ipynb>data table notebook</a>'\n",
              "            + ' to learn more about interactive tables.';\n",
              "          element.innerHTML = '';\n",
              "          dataTable['output_type'] = 'display_data';\n",
              "          await google.colab.output.renderOutput(dataTable, element);\n",
              "          const docLink = document.createElement('div');\n",
              "          docLink.innerHTML = docLinkHtml;\n",
              "          element.appendChild(docLink);\n",
              "        }\n",
              "      </script>\n",
              "    </div>\n",
              "  </div>\n",
              "  "
            ]
          },
          "metadata": {},
          "execution_count": 62
        }
      ]
    },
    {
      "cell_type": "code",
      "source": [
        "# Count the number of rows (sample population)\n",
        "\n",
        "upto41_men_df.shape"
      ],
      "metadata": {
        "colab": {
          "base_uri": "https://localhost:8080/"
        },
        "id": "Q8Uxc2VZr8_7",
        "outputId": "b304df93-9080-4523-d1b7-18c2412226ef"
      },
      "execution_count": 63,
      "outputs": [
        {
          "output_type": "execute_result",
          "data": {
            "text/plain": [
              "(279, 10)"
            ]
          },
          "metadata": {},
          "execution_count": 63
        }
      ]
    },
    {
      "cell_type": "markdown",
      "source": [
        "Now that the data is divided by the age range 18-41 by gender, we can run a t-test to compare the pay means between men and women within these ages to see if there is a statistical difference.  I am also again calculating the standard error and confidence intervals at 95%."
      ],
      "metadata": {
        "id": "vax6BJLL6QYE"
      }
    },
    {
      "cell_type": "code",
      "source": [
        "# Run t-test to compare the pay means between men and women\n",
        "\n",
        "stats.ttest_ind(upto41_men_df['TotalPay'], upto41_women_df['TotalPay'])"
      ],
      "metadata": {
        "colab": {
          "base_uri": "https://localhost:8080/"
        },
        "id": "kx_eWyQt4OKe",
        "outputId": "795304ff-92d9-41d1-ab63-4152d6ab6a24"
      },
      "execution_count": 64,
      "outputs": [
        {
          "output_type": "execute_result",
          "data": {
            "text/plain": [
              "Ttest_indResult(statistic=4.341558829292817, pvalue=1.711375675903681e-05)"
            ]
          },
          "metadata": {},
          "execution_count": 64
        }
      ]
    },
    {
      "cell_type": "code",
      "source": [
        "# Calculate the sample size, mean, and variance for each sample\n",
        "\n",
        "sample_1_n2 = upto41_women_df.shape[0]\n",
        "sample_2_n2 = upto41_men_df.shape[0]\n",
        "sample_1_mean2 = upto41_women_df['TotalPay'].mean()\n",
        "sample_2_mean2 = upto41_men_df['TotalPay'].mean()\n",
        "sample_1_var2 = upto41_women_df['TotalPay'].var()\n",
        "sample_2_var2 = upto41_men_df['TotalPay'].var()"
      ],
      "metadata": {
        "id": "AvoVGkDt63Rc"
      },
      "execution_count": 65,
      "outputs": []
    },
    {
      "cell_type": "code",
      "source": [
        "# Calculate the standard error and compute confidence intervals\n",
        "\n",
        "std_err_difference2 = math.sqrt((sample_1_var2/sample_1_n2)+(sample_2_var2/sample_2_n2))\n",
        "\n",
        "mean_difference2 = sample_2_mean2 - sample_1_mean2\n",
        "\n",
        "margin_of_error2 = 1.96 * std_err_difference2\n",
        "ci_lower2 = mean_difference2 - margin_of_error2\n",
        "ci_upper2 = mean_difference2 + margin_of_error2\n",
        "\n",
        "print(\"The difference in means at the 95% confidence interval is between \"+str(ci_lower2)+\" and \"+str(ci_upper2)+\".\")"
      ],
      "metadata": {
        "colab": {
          "base_uri": "https://localhost:8080/"
        },
        "id": "TvMQoGq169QX",
        "outputId": "7f2f180e-b906-471e-cd10-849fc45a0de1"
      },
      "execution_count": 66,
      "outputs": [
        {
          "output_type": "stream",
          "name": "stdout",
          "text": [
            "The difference in means at the 95% confidence interval is between 4503.4911039334975 and 11898.94011375295.\n"
          ]
        }
      ]
    },
    {
      "cell_type": "code",
      "source": [
        "# In order to visualize the relationship between men and women pay means by the newly introduced variable of age, I need to\n",
        "# create a new dataframe that includes only the individuals within the 18-41 age range\n",
        "\n",
        "# Adding the number of rows in the upto41_women_df + upto41_men_df should equal the number of rows in this new dataframe (505)\n",
        "\n",
        "upto41_df = df.iloc[(df['Age'] <= 41).values]\n",
        "upto41_df.info()"
      ],
      "metadata": {
        "colab": {
          "base_uri": "https://localhost:8080/"
        },
        "id": "KPdjyenM7js5",
        "outputId": "4e25083e-bbbe-423e-82a7-940814d5530b"
      },
      "execution_count": 67,
      "outputs": [
        {
          "output_type": "stream",
          "name": "stdout",
          "text": [
            "<class 'pandas.core.frame.DataFrame'>\n",
            "Int64Index: 505 entries, 0 to 965\n",
            "Data columns (total 10 columns):\n",
            " #   Column     Non-Null Count  Dtype \n",
            "---  ------     --------------  ----- \n",
            " 0   JobTitle   505 non-null    object\n",
            " 1   Gender     505 non-null    object\n",
            " 2   Age        505 non-null    int64 \n",
            " 3   PerfEval   505 non-null    int64 \n",
            " 4   Education  505 non-null    object\n",
            " 5   Dept       505 non-null    object\n",
            " 6   Seniority  505 non-null    int64 \n",
            " 7   BasePay    505 non-null    int64 \n",
            " 8   Bonus      505 non-null    int64 \n",
            " 9   TotalPay   505 non-null    int64 \n",
            "dtypes: int64(6), object(4)\n",
            "memory usage: 43.4+ KB\n"
          ]
        }
      ]
    },
    {
      "cell_type": "code",
      "source": [
        "# Visualize the relationship between men and women pay means by age using our new datafram\n",
        "\n",
        "sns.histplot(x='TotalPay', hue='Gender', data=upto41_df, kde=True)"
      ],
      "metadata": {
        "colab": {
          "base_uri": "https://localhost:8080/",
          "height": 302
        },
        "id": "zXAcKKqY9qnP",
        "outputId": "895165b4-0904-425b-9691-677f66dec5ae"
      },
      "execution_count": 68,
      "outputs": [
        {
          "output_type": "execute_result",
          "data": {
            "text/plain": [
              "<matplotlib.axes._subplots.AxesSubplot at 0x7fbdef4c1a50>"
            ]
          },
          "metadata": {},
          "execution_count": 68
        },
        {
          "output_type": "display_data",
          "data": {
            "text/plain": [
              "<Figure size 432x288 with 1 Axes>"
            ],
            "image/png": "[encoded data removed]"
          },
          "metadata": {}
        }
      ]
    },
    {
      "cell_type": "markdown",
      "source": [
        "# Findings for Hypothesis Test #2a\n",
        "\n",
        "*   Reject the null that there is no significant difference in population means between the salary of men and women between the ages of 18-41\n",
        "*   The difference is significant at p < 0.05\n",
        "*   With 95% confidence, the difference is between 4,503.49 and 11,898.94\n",
        "\n",
        "\n",
        "\n",
        "> There is also a significant difference in salaries between men and women who are between the ages of 18-41.\n",
        "\n",
        "> The p-value indicates that there is less than a 5% chance of observing a difference in pay this large, even if there was no difference in the mean pay between men and women.\n",
        "\n",
        "> With 95% confidence, the true difference in salary between men and women is between 4,503.49 and 11,898.94, with men holding the higher average salary.\n",
        "\n",
        "\n",
        "\n"
      ],
      "metadata": {
        "id": "8sff9QfN_I0T"
      }
    },
    {
      "cell_type": "markdown",
      "source": [
        "# **Hypothesis Test #2b**\n",
        "\n",
        "*   **Null:**  There will not be a significant difference in average pay between men and women between the ages of 42-65.\n",
        "*   **Alternate:**  There will be a significant difference in average pay between men and women between the ages of 42-65.\n",
        "\n",
        "After testing for a significant difference in pay within the ages 18-41, the next step is perfoming the same analysis on mean pay between men and women for ages spanning 42-65."
      ],
      "metadata": {
        "id": "Qj_DidW6_SWM"
      }
    },
    {
      "cell_type": "code",
      "source": [
        "# Create a df for women between the ages of 42-65\n",
        "# Use the intial dataframes that filtered by gender\n",
        "\n",
        "# Pull up a section of the table to ensure the correct ages have been selected\n",
        "\n",
        "over41_women_df = women_df.iloc[(women_df['Age'] >= 42).values]\n",
        "\n",
        "over41_women_df.head()"
      ],
      "metadata": {
        "colab": {
          "base_uri": "https://localhost:8080/",
          "height": 204
        },
        "id": "koNxxKa--UT_",
        "outputId": "d23e54a5-2850-4b06-d7ec-3d1040e8062a"
      },
      "execution_count": 69,
      "outputs": [
        {
          "output_type": "execute_result",
          "data": {
            "text/plain": [
              "               JobTitle  Gender  Age  PerfEval Education         Dept  \\\n",
              "34       Data Scientist  Female   45         5       PhD   Management   \n",
              "58       Data Scientist  Female   49         5   College   Operations   \n",
              "66  Warehouse Associate  Female   53         5   College  Engineering   \n",
              "73    Financial Analyst  Female   42         5   College  Engineering   \n",
              "86                   IT  Female   48         5       PhD   Operations   \n",
              "\n",
              "    Seniority  BasePay  Bonus  TotalPay  \n",
              "34          5   113252  10139    123391  \n",
              "58          3    71193   8331     79524  \n",
              "66          5   127085   9687    136772  \n",
              "73          5   113640   8762    122402  \n",
              "86          3    88152   8857     97009  "
            ],
            "text/html": [
              "\n",
              "  <div id=\"df-5c5f8963-87dd-4298-a72f-d922a0266001\">\n",
              "    <div class=\"colab-df-container\">\n",
              "      <div>\n",
              "<style scoped>\n",
              "    .dataframe tbody tr th:only-of-type {\n",
              "        vertical-align: middle;\n",
              "    }\n",
              "\n",
              "    .dataframe tbody tr th {\n",
              "        vertical-align: top;\n",
              "    }\n",
              "\n",
              "    .dataframe thead th {\n",
              "        text-align: right;\n",
              "    }\n",
              "</style>\n",
              "<table border=\"1\" class=\"dataframe\">\n",
              "  <thead>\n",
              "    <tr style=\"text-align: right;\">\n",
              "      <th></th>\n",
              "      <th>JobTitle</th>\n",
              "      <th>Gender</th>\n",
              "      <th>Age</th>\n",
              "      <th>PerfEval</th>\n",
              "      <th>Education</th>\n",
              "      <th>Dept</th>\n",
              "      <th>Seniority</th>\n",
              "      <th>BasePay</th>\n",
              "      <th>Bonus</th>\n",
              "      <th>TotalPay</th>\n",
              "    </tr>\n",
              "  </thead>\n",
              "  <tbody>\n",
              "    <tr>\n",
              "      <th>34</th>\n",
              "      <td>Data Scientist</td>\n",
              "      <td>Female</td>\n",
              "      <td>45</td>\n",
              "      <td>5</td>\n",
              "      <td>PhD</td>\n",
              "      <td>Management</td>\n",
              "      <td>5</td>\n",
              "      <td>113252</td>\n",
              "      <td>10139</td>\n",
              "      <td>123391</td>\n",
              "    </tr>\n",
              "    <tr>\n",
              "      <th>58</th>\n",
              "      <td>Data Scientist</td>\n",
              "      <td>Female</td>\n",
              "      <td>49</td>\n",
              "      <td>5</td>\n",
              "      <td>College</td>\n",
              "      <td>Operations</td>\n",
              "      <td>3</td>\n",
              "      <td>71193</td>\n",
              "      <td>8331</td>\n",
              "      <td>79524</td>\n",
              "    </tr>\n",
              "    <tr>\n",
              "      <th>66</th>\n",
              "      <td>Warehouse Associate</td>\n",
              "      <td>Female</td>\n",
              "      <td>53</td>\n",
              "      <td>5</td>\n",
              "      <td>College</td>\n",
              "      <td>Engineering</td>\n",
              "      <td>5</td>\n",
              "      <td>127085</td>\n",
              "      <td>9687</td>\n",
              "      <td>136772</td>\n",
              "    </tr>\n",
              "    <tr>\n",
              "      <th>73</th>\n",
              "      <td>Financial Analyst</td>\n",
              "      <td>Female</td>\n",
              "      <td>42</td>\n",
              "      <td>5</td>\n",
              "      <td>College</td>\n",
              "      <td>Engineering</td>\n",
              "      <td>5</td>\n",
              "      <td>113640</td>\n",
              "      <td>8762</td>\n",
              "      <td>122402</td>\n",
              "    </tr>\n",
              "    <tr>\n",
              "      <th>86</th>\n",
              "      <td>IT</td>\n",
              "      <td>Female</td>\n",
              "      <td>48</td>\n",
              "      <td>5</td>\n",
              "      <td>PhD</td>\n",
              "      <td>Operations</td>\n",
              "      <td>3</td>\n",
              "      <td>88152</td>\n",
              "      <td>8857</td>\n",
              "      <td>97009</td>\n",
              "    </tr>\n",
              "  </tbody>\n",
              "</table>\n",
              "</div>\n",
              "      <button class=\"colab-df-convert\" onclick=\"convertToInteractive('df-5c5f8963-87dd-4298-a72f-d922a0266001')\"\n",
              "              title=\"Convert this dataframe to an interactive table.\"\n",
              "              style=\"display:none;\">\n",
              "        \n",
              "  <svg xmlns=\"http://www.w3.org/2000/svg\" height=\"24px\"viewBox=\"0 0 24 24\"\n",
              "       width=\"24px\">\n",
              "    <path d=\"M0 0h24v24H0V0z\" fill=\"none\"/>\n",
              "    <path d=\"M18.56 5.44l.94 2.06.94-2.06 2.06-.94-2.06-.94-.94-2.06-.94 2.06-2.06.94zm-11 1L8.5 8.5l.94-2.06 2.06-.94-2.06-.94L8.5 2.5l-.94 2.06-2.06.94zm10 10l.94 2.06.94-2.06 2.06-.94-2.06-.94-.94-2.06-.94 2.06-2.06.94z\"/><path d=\"M17.41 7.96l-1.37-1.37c-.4-.4-.92-.59-1.43-.59-.52 0-1.04.2-1.43.59L10.3 9.45l-7.72 7.72c-.78.78-.78 2.05 0 2.83L4 21.41c.39.39.9.59 1.41.59.51 0 1.02-.2 1.41-.59l7.78-7.78 2.81-2.81c.8-.78.8-2.07 0-2.86zM5.41 20L4 18.59l7.72-7.72 1.47 1.35L5.41 20z\"/>\n",
              "  </svg>\n",
              "      </button>\n",
              "      \n",
              "  <style>\n",
              "    .colab-df-container {\n",
              "      display:flex;\n",
              "      flex-wrap:wrap;\n",
              "      gap: 12px;\n",
              "    }\n",
              "\n",
              "    .colab-df-convert {\n",
              "      background-color: #E8F0FE;\n",
              "      border: none;\n",
              "      border-radius: 50%;\n",
              "      cursor: pointer;\n",
              "      display: none;\n",
              "      fill: #1967D2;\n",
              "      height: 32px;\n",
              "      padding: 0 0 0 0;\n",
              "      width: 32px;\n",
              "    }\n",
              "\n",
              "    .colab-df-convert:hover {\n",
              "      background-color: #E2EBFA;\n",
              "      box-shadow: 0px 1px 2px rgba(60, 64, 67, 0.3), 0px 1px 3px 1px rgba(60, 64, 67, 0.15);\n",
              "      fill: #174EA6;\n",
              "    }\n",
              "\n",
              "    [theme=dark] .colab-df-convert {\n",
              "      background-color: #3B4455;\n",
              "      fill: #D2E3FC;\n",
              "    }\n",
              "\n",
              "    [theme=dark] .colab-df-convert:hover {\n",
              "      background-color: #434B5C;\n",
              "      box-shadow: 0px 1px 3px 1px rgba(0, 0, 0, 0.15);\n",
              "      filter: drop-shadow(0px 1px 2px rgba(0, 0, 0, 0.3));\n",
              "      fill: #FFFFFF;\n",
              "    }\n",
              "  </style>\n",
              "\n",
              "      <script>\n",
              "        const buttonEl =\n",
              "          document.querySelector('#df-5c5f8963-87dd-4298-a72f-d922a0266001 button.colab-df-convert');\n",
              "        buttonEl.style.display =\n",
              "          google.colab.kernel.accessAllowed ? 'block' : 'none';\n",
              "\n",
              "        async function convertToInteractive(key) {\n",
              "          const element = document.querySelector('#df-5c5f8963-87dd-4298-a72f-d922a0266001');\n",
              "          const dataTable =\n",
              "            await google.colab.kernel.invokeFunction('convertToInteractive',\n",
              "                                                     [key], {});\n",
              "          if (!dataTable) return;\n",
              "\n",
              "          const docLinkHtml = 'Like what you see? Visit the ' +\n",
              "            '<a target=\"_blank\" href=https://colab.research.google.com/notebooks/data_table.ipynb>data table notebook</a>'\n",
              "            + ' to learn more about interactive tables.';\n",
              "          element.innerHTML = '';\n",
              "          dataTable['output_type'] = 'display_data';\n",
              "          await google.colab.output.renderOutput(dataTable, element);\n",
              "          const docLink = document.createElement('div');\n",
              "          docLink.innerHTML = docLinkHtml;\n",
              "          element.appendChild(docLink);\n",
              "        }\n",
              "      </script>\n",
              "    </div>\n",
              "  </div>\n",
              "  "
            ]
          },
          "metadata": {},
          "execution_count": 69
        }
      ]
    },
    {
      "cell_type": "code",
      "source": [
        "# Count the number of rows (sample population)\n",
        "\n",
        "over41_women_df.shape"
      ],
      "metadata": {
        "colab": {
          "base_uri": "https://localhost:8080/"
        },
        "id": "Vp03H6E3CLTf",
        "outputId": "fdba3b32-202e-4d2f-a31c-d08beb8ca6ef"
      },
      "execution_count": 70,
      "outputs": [
        {
          "output_type": "execute_result",
          "data": {
            "text/plain": [
              "(242, 10)"
            ]
          },
          "metadata": {},
          "execution_count": 70
        }
      ]
    },
    {
      "cell_type": "code",
      "source": [
        "# Create a df for men between the ages of 42-65\n",
        "# Use the intial dataframes that filtered by gender\n",
        "\n",
        "# Pull up a section of the table to ensure the correct ages have been selected\n",
        "\n",
        "over41_men_df = men_df.iloc[(men_df['Age'] >= 42).values]\n",
        "over41_men_df.head()"
      ],
      "metadata": {
        "colab": {
          "base_uri": "https://localhost:8080/",
          "height": 204
        },
        "id": "Uvc-BfewCTAI",
        "outputId": "c18f9d3e-43ed-40f6-a234-20a3a8624a17"
      },
      "execution_count": 71,
      "outputs": [
        {
          "output_type": "execute_result",
          "data": {
            "text/plain": [
              "                JobTitle Gender  Age  PerfEval    Education            Dept  \\\n",
              "93   Warehouse Associate   Male   49         5  High School           Sales   \n",
              "99                    IT   Male   55         5      College      Management   \n",
              "108  Warehouse Associate   Male   46         5          PhD           Sales   \n",
              "122       Data Scientist   Male   51         5          PhD      Operations   \n",
              "123    Software Engineer   Male   54         5          PhD  Administration   \n",
              "\n",
              "     Seniority  BasePay  Bonus  TotalPay  \n",
              "93           4   109419   8375    117794  \n",
              "99           5   127769   8802    136571  \n",
              "108          1    76517   8502     85019  \n",
              "122          4   110731   8643    119374  \n",
              "123          4   125572   8245    133817  "
            ],
            "text/html": [
              "\n",
              "  <div id=\"df-f1abd457-d867-4455-b828-8ddb93294008\">\n",
              "    <div class=\"colab-df-container\">\n",
              "      <div>\n",
              "<style scoped>\n",
              "    .dataframe tbody tr th:only-of-type {\n",
              "        vertical-align: middle;\n",
              "    }\n",
              "\n",
              "    .dataframe tbody tr th {\n",
              "        vertical-align: top;\n",
              "    }\n",
              "\n",
              "    .dataframe thead th {\n",
              "        text-align: right;\n",
              "    }\n",
              "</style>\n",
              "<table border=\"1\" class=\"dataframe\">\n",
              "  <thead>\n",
              "    <tr style=\"text-align: right;\">\n",
              "      <th></th>\n",
              "      <th>JobTitle</th>\n",
              "      <th>Gender</th>\n",
              "      <th>Age</th>\n",
              "      <th>PerfEval</th>\n",
              "      <th>Education</th>\n",
              "      <th>Dept</th>\n",
              "      <th>Seniority</th>\n",
              "      <th>BasePay</th>\n",
              "      <th>Bonus</th>\n",
              "      <th>TotalPay</th>\n",
              "    </tr>\n",
              "  </thead>\n",
              "  <tbody>\n",
              "    <tr>\n",
              "      <th>93</th>\n",
              "      <td>Warehouse Associate</td>\n",
              "      <td>Male</td>\n",
              "      <td>49</td>\n",
              "      <td>5</td>\n",
              "      <td>High School</td>\n",
              "      <td>Sales</td>\n",
              "      <td>4</td>\n",
              "      <td>109419</td>\n",
              "      <td>8375</td>\n",
              "      <td>117794</td>\n",
              "    </tr>\n",
              "    <tr>\n",
              "      <th>99</th>\n",
              "      <td>IT</td>\n",
              "      <td>Male</td>\n",
              "      <td>55</td>\n",
              "      <td>5</td>\n",
              "      <td>College</td>\n",
              "      <td>Management</td>\n",
              "      <td>5</td>\n",
              "      <td>127769</td>\n",
              "      <td>8802</td>\n",
              "      <td>136571</td>\n",
              "    </tr>\n",
              "    <tr>\n",
              "      <th>108</th>\n",
              "      <td>Warehouse Associate</td>\n",
              "      <td>Male</td>\n",
              "      <td>46</td>\n",
              "      <td>5</td>\n",
              "      <td>PhD</td>\n",
              "      <td>Sales</td>\n",
              "      <td>1</td>\n",
              "      <td>76517</td>\n",
              "      <td>8502</td>\n",
              "      <td>85019</td>\n",
              "    </tr>\n",
              "    <tr>\n",
              "      <th>122</th>\n",
              "      <td>Data Scientist</td>\n",
              "      <td>Male</td>\n",
              "      <td>51</td>\n",
              "      <td>5</td>\n",
              "      <td>PhD</td>\n",
              "      <td>Operations</td>\n",
              "      <td>4</td>\n",
              "      <td>110731</td>\n",
              "      <td>8643</td>\n",
              "      <td>119374</td>\n",
              "    </tr>\n",
              "    <tr>\n",
              "      <th>123</th>\n",
              "      <td>Software Engineer</td>\n",
              "      <td>Male</td>\n",
              "      <td>54</td>\n",
              "      <td>5</td>\n",
              "      <td>PhD</td>\n",
              "      <td>Administration</td>\n",
              "      <td>4</td>\n",
              "      <td>125572</td>\n",
              "      <td>8245</td>\n",
              "      <td>133817</td>\n",
              "    </tr>\n",
              "  </tbody>\n",
              "</table>\n",
              "</div>\n",
              "      <button class=\"colab-df-convert\" onclick=\"convertToInteractive('df-f1abd457-d867-4455-b828-8ddb93294008')\"\n",
              "              title=\"Convert this dataframe to an interactive table.\"\n",
              "              style=\"display:none;\">\n",
              "        \n",
              "  <svg xmlns=\"http://www.w3.org/2000/svg\" height=\"24px\"viewBox=\"0 0 24 24\"\n",
              "       width=\"24px\">\n",
              "    <path d=\"M0 0h24v24H0V0z\" fill=\"none\"/>\n",
              "    <path d=\"M18.56 5.44l.94 2.06.94-2.06 2.06-.94-2.06-.94-.94-2.06-.94 2.06-2.06.94zm-11 1L8.5 8.5l.94-2.06 2.06-.94-2.06-.94L8.5 2.5l-.94 2.06-2.06.94zm10 10l.94 2.06.94-2.06 2.06-.94-2.06-.94-.94-2.06-.94 2.06-2.06.94z\"/><path d=\"M17.41 7.96l-1.37-1.37c-.4-.4-.92-.59-1.43-.59-.52 0-1.04.2-1.43.59L10.3 9.45l-7.72 7.72c-.78.78-.78 2.05 0 2.83L4 21.41c.39.39.9.59 1.41.59.51 0 1.02-.2 1.41-.59l7.78-7.78 2.81-2.81c.8-.78.8-2.07 0-2.86zM5.41 20L4 18.59l7.72-7.72 1.47 1.35L5.41 20z\"/>\n",
              "  </svg>\n",
              "      </button>\n",
              "      \n",
              "  <style>\n",
              "    .colab-df-container {\n",
              "      display:flex;\n",
              "      flex-wrap:wrap;\n",
              "      gap: 12px;\n",
              "    }\n",
              "\n",
              "    .colab-df-convert {\n",
              "      background-color: #E8F0FE;\n",
              "      border: none;\n",
              "      border-radius: 50%;\n",
              "      cursor: pointer;\n",
              "      display: none;\n",
              "      fill: #1967D2;\n",
              "      height: 32px;\n",
              "      padding: 0 0 0 0;\n",
              "      width: 32px;\n",
              "    }\n",
              "\n",
              "    .colab-df-convert:hover {\n",
              "      background-color: #E2EBFA;\n",
              "      box-shadow: 0px 1px 2px rgba(60, 64, 67, 0.3), 0px 1px 3px 1px rgba(60, 64, 67, 0.15);\n",
              "      fill: #174EA6;\n",
              "    }\n",
              "\n",
              "    [theme=dark] .colab-df-convert {\n",
              "      background-color: #3B4455;\n",
              "      fill: #D2E3FC;\n",
              "    }\n",
              "\n",
              "    [theme=dark] .colab-df-convert:hover {\n",
              "      background-color: #434B5C;\n",
              "      box-shadow: 0px 1px 3px 1px rgba(0, 0, 0, 0.15);\n",
              "      filter: drop-shadow(0px 1px 2px rgba(0, 0, 0, 0.3));\n",
              "      fill: #FFFFFF;\n",
              "    }\n",
              "  </style>\n",
              "\n",
              "      <script>\n",
              "        const buttonEl =\n",
              "          document.querySelector('#df-f1abd457-d867-4455-b828-8ddb93294008 button.colab-df-convert');\n",
              "        buttonEl.style.display =\n",
              "          google.colab.kernel.accessAllowed ? 'block' : 'none';\n",
              "\n",
              "        async function convertToInteractive(key) {\n",
              "          const element = document.querySelector('#df-f1abd457-d867-4455-b828-8ddb93294008');\n",
              "          const dataTable =\n",
              "            await google.colab.kernel.invokeFunction('convertToInteractive',\n",
              "                                                     [key], {});\n",
              "          if (!dataTable) return;\n",
              "\n",
              "          const docLinkHtml = 'Like what you see? Visit the ' +\n",
              "            '<a target=\"_blank\" href=https://colab.research.google.com/notebooks/data_table.ipynb>data table notebook</a>'\n",
              "            + ' to learn more about interactive tables.';\n",
              "          element.innerHTML = '';\n",
              "          dataTable['output_type'] = 'display_data';\n",
              "          await google.colab.output.renderOutput(dataTable, element);\n",
              "          const docLink = document.createElement('div');\n",
              "          docLink.innerHTML = docLinkHtml;\n",
              "          element.appendChild(docLink);\n",
              "        }\n",
              "      </script>\n",
              "    </div>\n",
              "  </div>\n",
              "  "
            ]
          },
          "metadata": {},
          "execution_count": 71
        }
      ]
    },
    {
      "cell_type": "code",
      "source": [
        "# Count the number of rows (sample population)\n",
        "\n",
        "over41_men_df.shape"
      ],
      "metadata": {
        "colab": {
          "base_uri": "https://localhost:8080/"
        },
        "id": "69Rs1F_iCo4M",
        "outputId": "5d52cc59-76e2-4255-e715-bcc2ce888cd1"
      },
      "execution_count": 72,
      "outputs": [
        {
          "output_type": "execute_result",
          "data": {
            "text/plain": [
              "(253, 10)"
            ]
          },
          "metadata": {},
          "execution_count": 72
        }
      ]
    },
    {
      "cell_type": "markdown",
      "source": [
        "Now that the data is divided by the age range 42-65 by gender, we can run a t-test to compare the pay means between men and women within these ages to see if there is a statistical difference. I am also again calculating the standard error and confidence intervals at 95%."
      ],
      "metadata": {
        "id": "17OFpAH2D5hk"
      }
    },
    {
      "cell_type": "code",
      "source": [
        "# Run t-test to compare the pay means between men and women\n",
        "\n",
        "stats.ttest_ind(over41_men_df['TotalPay'], over41_women_df['TotalPay'])"
      ],
      "metadata": {
        "colab": {
          "base_uri": "https://localhost:8080/"
        },
        "id": "GtBd43mzC4zS",
        "outputId": "463a2d10-1f29-425d-c7fd-c79c76e84776"
      },
      "execution_count": 73,
      "outputs": [
        {
          "output_type": "execute_result",
          "data": {
            "text/plain": [
              "Ttest_indResult(statistic=5.444570513671879, pvalue=8.204042849283023e-08)"
            ]
          },
          "metadata": {},
          "execution_count": 73
        }
      ]
    },
    {
      "cell_type": "code",
      "source": [
        "# Calculate the sample size, mean, and variance for each sample\n",
        "\n",
        "sample_1_n3 = over41_women_df.shape[0]\n",
        "sample_2_n3 = over41_men_df.shape[0]\n",
        "sample_1_mean3 = over41_women_df['TotalPay'].mean()\n",
        "sample_2_mean3 = over41_men_df['TotalPay'].mean()\n",
        "sample_1_var3 = over41_women_df['TotalPay'].var()\n",
        "sample_2_var3 = over41_men_df['TotalPay'].var()"
      ],
      "metadata": {
        "id": "jEjgwlJnEI6E"
      },
      "execution_count": 74,
      "outputs": []
    },
    {
      "cell_type": "code",
      "source": [
        "# Calculate the standard error and compute confidence intervals\n",
        "\n",
        "std_err_difference3 = math.sqrt((sample_1_var3/sample_1_n3)+(sample_2_var3/sample_2_n3))\n",
        "\n",
        "mean_difference3 = sample_2_mean3 - sample_1_mean3\n",
        "\n",
        "margin_of_error3 = 1.96 * std_err_difference3\n",
        "ci_lower3 = mean_difference3 - margin_of_error3\n",
        "ci_upper3 = mean_difference3 + margin_of_error3\n",
        "\n",
        "print(\"The difference in means at the 95% confidence interval is between \"+str(ci_lower3)+\" and \"+str(ci_upper3)+\".\")"
      ],
      "metadata": {
        "colab": {
          "base_uri": "https://localhost:8080/"
        },
        "id": "a5O44Re7Ec7w",
        "outputId": "1e15911d-13eb-482c-ce48-fc13a160e19c"
      },
      "execution_count": 75,
      "outputs": [
        {
          "output_type": "stream",
          "name": "stdout",
          "text": [
            "The difference in means at the 95% confidence interval is between 6940.09256734296 and 14736.023135136362.\n"
          ]
        }
      ]
    },
    {
      "cell_type": "code",
      "source": [
        "# In order to visualize the relationship between men and women pay means of individuals within the 42-65 age range, I will again\n",
        "# need to create another dataframe that includes only the people whose ages fall between 42-65.\n",
        "\n",
        "# Adding the number of rows in the over41_women_df + over41_men_df should equal the number of rows in this new dataframe (495)\n",
        "\n",
        "over41_df = df.iloc[(df['Age'] >= 42).values]\n",
        "over41_df.info()"
      ],
      "metadata": {
        "colab": {
          "base_uri": "https://localhost:8080/"
        },
        "id": "BEwidfhlEwNZ",
        "outputId": "fd4c5632-90a4-4819-eb89-816d18846964"
      },
      "execution_count": 76,
      "outputs": [
        {
          "output_type": "stream",
          "name": "stdout",
          "text": [
            "<class 'pandas.core.frame.DataFrame'>\n",
            "Int64Index: 495 entries, 34 to 999\n",
            "Data columns (total 10 columns):\n",
            " #   Column     Non-Null Count  Dtype \n",
            "---  ------     --------------  ----- \n",
            " 0   JobTitle   495 non-null    object\n",
            " 1   Gender     495 non-null    object\n",
            " 2   Age        495 non-null    int64 \n",
            " 3   PerfEval   495 non-null    int64 \n",
            " 4   Education  495 non-null    object\n",
            " 5   Dept       495 non-null    object\n",
            " 6   Seniority  495 non-null    int64 \n",
            " 7   BasePay    495 non-null    int64 \n",
            " 8   Bonus      495 non-null    int64 \n",
            " 9   TotalPay   495 non-null    int64 \n",
            "dtypes: int64(6), object(4)\n",
            "memory usage: 42.5+ KB\n"
          ]
        }
      ]
    },
    {
      "cell_type": "code",
      "source": [
        "# Visualize the relationship between men and women pay means by age using our new datafram\n",
        "\n",
        "sns.histplot(x='TotalPay', hue='Gender', data=over41_df, kde=True)"
      ],
      "metadata": {
        "colab": {
          "base_uri": "https://localhost:8080/",
          "height": 302
        },
        "id": "AA8QnW-pFgyJ",
        "outputId": "30f00280-852c-454c-d473-8aa234a9b1e7"
      },
      "execution_count": 77,
      "outputs": [
        {
          "output_type": "execute_result",
          "data": {
            "text/plain": [
              "<matplotlib.axes._subplots.AxesSubplot at 0x7fbdef8c0550>"
            ]
          },
          "metadata": {},
          "execution_count": 77
        },
        {
          "output_type": "display_data",
          "data": {
            "text/plain": [
              "<Figure size 432x288 with 1 Axes>"
            ],
            "image/png": "[encoded data removed]"
          },
          "metadata": {}
        }
      ]
    },
    {
      "cell_type": "markdown",
      "source": [
        "# Findings for Hypothesis Test #2b\n",
        "\n",
        "*   Reject the null that there is no significant difference in population means between the salary of men and women between the ages of 42-65\n",
        "*   The difference is significant at p < 0.05\n",
        "*   With 95% confidence, the difference is between 6,940.09 and 14,736.02\n",
        "\n",
        "\n",
        "> There is once again a significant difference in salaries between men and women who are between the ages of 42-65.  \n",
        "\n",
        "> The p-value indicates that there is less than a 5% chance of observing a difference in pay this large, even if there was no difference in the mean pay between men and women.\n",
        "\n",
        "> With 95% confidence, the true difference in salary between men and women is between 6,940.09 and 14,736.02, with men holding the higher average salary.\n",
        "\n",
        "\n",
        "A comprehensive look at the correlation between all ages and total pay grouped by gender can be seen in the scatter plot below.  While this visualization shows a trend for salary to increase with age for both men and women, men still tend to earn more in pay than women do across the age range.\n"
      ],
      "metadata": {
        "id": "UySlanFKGRYF"
      }
    },
    {
      "cell_type": "code",
      "source": [
        "# Full scatterplot including all ages (18-65)\n",
        "\n",
        "plt.figure(figsize = (13,5))\n",
        "sns.scatterplot(x='TotalPay', y='Age', hue='Gender', data=df)"
      ],
      "metadata": {
        "colab": {
          "base_uri": "https://localhost:8080/",
          "height": 356
        },
        "id": "A0fBTzkxsX1M",
        "outputId": "f0e7c56a-cd66-48cf-d5eb-8f568d9e6cac"
      },
      "execution_count": 83,
      "outputs": [
        {
          "output_type": "execute_result",
          "data": {
            "text/plain": [
              "<matplotlib.axes._subplots.AxesSubplot at 0x7fbdeefef250>"
            ]
          },
          "metadata": {},
          "execution_count": 83
        },
        {
          "output_type": "display_data",
          "data": {
            "text/plain": [
              "<Figure size 936x360 with 1 Axes>"
            ],
            "image/png": "[encoded data removed]"
          },
          "metadata": {}
        }
      ]
    },
    {
      "cell_type": "markdown",
      "source": [
        "# **Conclusion**\n",
        "\n",
        "\n",
        "In this statistical analysis, I was concerned with observing if there was a significant difference in pay between men and women, as well as the potential imapct of age on pay.  Not only did I find a signficant difference in pay indicating a larger mean income for men compared to women, the income gap also remained in different age groups as well.  All null hypotheses were rejected.\n",
        "\n",
        "\n",
        "External research has also investigated how age impacts salary differences between men and women.  This research suggests that while women hit their peak income in their early 40's, men continue to build their highest takehome pay well into their 50's.  This observation was paralleled in this dataset as men did not only continue to take in an average higher pay than women in both age groups, but the true difference in salary at a 95% confidence interval resulted in a higher pay range difference in the older ages of 42-65 than I found in the 18-41 age group.  As a base point, the difference in mean pay between men and women regardless of age is 5,429.22 - 11,574.48.  Within the 18-41 ages there is a similar but slightly larger difference in mean pay ranging from 4,503.49 - 11,898.94.  And finally, at the 42-65 ages there is a difference in mean pay ranging from that noticeably increases to 6,940.09 - 14,736.02.  This supports external research suggesting men may continue to build their average pay beyond the age of 42 at which point women's salary has less likelihood to increase.\n",
        "\n",
        "# Limitations\n",
        "\n",
        "While this data mirrors other research studies, this dataset and analysis includes limitations.   \n",
        "\n",
        "1.   This data was limited with a population of only 1,000 individuals.  While the source data did not include any null or missing values, dividing the data into multiple categories (gender and age) greatly affected the population sizes for Hypothesis #2a and #2b, potentially impacting the outcome of the results.\n",
        "\n",
        "2.   The job titles in this data are varied with no intentionality to the jobs chosen.  The results found here could be skewed by the different jobs and job sectors selected for this data, especially if the average makeup of those jobs are significantly influenced by gender.\n",
        "\n",
        "2.   This data was scraped from a single source: Glassdoor. The data here is likely pulled from self-reported information, relying heavily on user input.  Glassdoor is not a comprehensive source on salary information, and data gathered by user input has an increased chance in being liable to errors or misrepresentation of the individual. Both factors have the potential to impact the accuracy of the data.\n",
        "\n",
        "2.   Finally, this dataset is limited in gender representation.  By only including men and women, we are excluding all individuals who exist outside this binary.  In our present social state where self-expression has become a prominent and necessary aspect of identity, a dataset representative of our population must reflect the new and ever-expanding ways with which we continue to identify ourselves. \n",
        "\n",
        "# Next Steps and Recommendations\n",
        "\n",
        "When conducting futher analysis, I recommend finding an alternative source for salary information.  First, this new source should have a greatly expanded population gathered over a number of years (ideally a 10+ year range to increase the scope and representativeness of the study).  Second, this source should also prioritize a more accurate method of data collection for true salary information that is not self-reported, if possible.  And finally, finding a dataset with an expanded option for gender options is imperative.  Utilizing a dataset with a much greater population over a longer period of time would likely allow for large enough populations to conduct significant statistical analysis of salary for those identifying outside the binary. \n",
        "\n",
        "Furthermore, additional information regarding a more expansive section on job sectors should be included and addressed in future studies to enable further research on gender pay gaps within specific job fields.  Other information related to pay, including benefits (401k match, health insurance, PTO, etc.) could be explored to observe any gendered differences in the benefits offered or in monetary the value of those benefits.\n",
        "\n",
        "As more research is conducted, I'm hopeful for the resulting social and public policies created in response to minimize this gap.  Only when we create and fund plans/organizations committed to addressing this significant gap that serves to limit the economic, social, and political freedoms of women (and that continues to expand men's freedoms), can we make positive steps forward in challenging and progressing women's financial status.  And while this research is limited in its gendered approach, we can build on this potential to provide a more nuanced understanding and wholistic account of the salary gap by expanding to financial research between a variety of different genders beyond the well-known divide exclusively between men and women."
      ],
      "metadata": {
        "id": "Dv5LVI-21hwg"
      }
    },
    {
      "cell_type": "code",
      "source": [
        ""
      ],
      "metadata": {
        "id": "xjyLC08U2teR"
      },
      "execution_count": null,
      "outputs": []
    }
  ]
}